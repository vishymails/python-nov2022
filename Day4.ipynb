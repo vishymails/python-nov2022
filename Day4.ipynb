{
 "cells": [
  {
   "cell_type": "code",
   "execution_count": null,
   "id": "160a8272-0f52-4a70-a4b9-0324e05472bd",
   "metadata": {},
   "outputs": [],
   "source": []
  },
  {
   "cell_type": "code",
   "execution_count": 1,
   "id": "af159ad8-b765-4841-8999-e03e74e6de2a",
   "metadata": {},
   "outputs": [],
   "source": [
    "class Employee :\n",
    "    'common base class for all employees'\n",
    "    empCount = 0 \n",
    "    \n",
    "    def __init__(self, name, salary) :\n",
    "        self.name = name\n",
    "        self.salary = salary\n",
    "        Employee.empCount += 1\n",
    "        \n",
    "    def displayCount(self) :\n",
    "        print(\"Total employees %d\" % Employee.empCount)\n",
    "        \n",
    "    def displayEmployee(self) :\n",
    "        print(\"Name : \", self.name, \", Salary : \", self.salary)\n",
    "        \n",
    "        "
   ]
  },
  {
   "cell_type": "code",
   "execution_count": 2,
   "id": "b62bc825-d313-4ef0-9d12-6a9f7dc78fcd",
   "metadata": {},
   "outputs": [
    {
     "name": "stdout",
     "output_type": "stream",
     "text": [
      "Name :  Zara , Salary :  2000\n",
      "Name :  Manni , Salary :  3000\n",
      "2\n"
     ]
    }
   ],
   "source": [
    "emp1 = Employee(\"Zara\", 2000)\n",
    "emp2 = Employee(\"Manni\", 3000)\n",
    "\n",
    "emp1.displayEmployee()\n",
    "emp2.displayEmployee()\n",
    "\n",
    "print(Employee.empCount)"
   ]
  },
  {
   "cell_type": "code",
   "execution_count": 3,
   "id": "5cf440e3-d1a2-4cf9-a339-7759f6c8250a",
   "metadata": {},
   "outputs": [
    {
     "name": "stdout",
     "output_type": "stream",
     "text": [
      "Name :  Ram , Salary :  2000\n"
     ]
    },
    {
     "ename": "AttributeError",
     "evalue": "'Employee' object has no attribute 'salary'",
     "output_type": "error",
     "traceback": [
      "\u001b[1;31m---------------------------------------------------------------------------\u001b[0m",
      "\u001b[1;31mAttributeError\u001b[0m                            Traceback (most recent call last)",
      "Input \u001b[1;32mIn [3]\u001b[0m, in \u001b[0;36m<cell line: 8>\u001b[1;34m()\u001b[0m\n\u001b[0;32m      4\u001b[0m emp1\u001b[38;5;241m.\u001b[39mdisplayEmployee()\n\u001b[0;32m      6\u001b[0m \u001b[38;5;28;01mdel\u001b[39;00m emp1\u001b[38;5;241m.\u001b[39msalary\n\u001b[1;32m----> 8\u001b[0m \u001b[43memp1\u001b[49m\u001b[38;5;241;43m.\u001b[39;49m\u001b[43mdisplayEmployee\u001b[49m\u001b[43m(\u001b[49m\u001b[43m)\u001b[49m\n",
      "Input \u001b[1;32mIn [1]\u001b[0m, in \u001b[0;36mEmployee.displayEmployee\u001b[1;34m(self)\u001b[0m\n\u001b[0;32m     13\u001b[0m \u001b[38;5;28;01mdef\u001b[39;00m \u001b[38;5;21mdisplayEmployee\u001b[39m(\u001b[38;5;28mself\u001b[39m) :\n\u001b[1;32m---> 14\u001b[0m     \u001b[38;5;28mprint\u001b[39m(\u001b[38;5;124m\"\u001b[39m\u001b[38;5;124mName : \u001b[39m\u001b[38;5;124m\"\u001b[39m, \u001b[38;5;28mself\u001b[39m\u001b[38;5;241m.\u001b[39mname, \u001b[38;5;124m\"\u001b[39m\u001b[38;5;124m, Salary : \u001b[39m\u001b[38;5;124m\"\u001b[39m, \u001b[38;5;28;43mself\u001b[39;49m\u001b[38;5;241;43m.\u001b[39;49m\u001b[43msalary\u001b[49m)\n",
      "\u001b[1;31mAttributeError\u001b[0m: 'Employee' object has no attribute 'salary'"
     ]
    }
   ],
   "source": [
    "emp1.age = 37\n",
    "emp1.name= 'Ram'\n",
    "\n",
    "emp1.displayEmployee()\n",
    "\n",
    "del emp1.salary\n",
    "\n",
    "emp1.displayEmployee()"
   ]
  },
  {
   "cell_type": "code",
   "execution_count": null,
   "id": "46d743a1-27e5-4693-85f7-c02b5ef55914",
   "metadata": {},
   "outputs": [],
   "source": [
    "print(hasattr(emp1, 'salary'))\n",
    "print(getattr(emp1, 'salary'))\n",
    "setattr(emp1, 'salary', 9000)\n",
    "print(getattr(emp1, 'salary'))\n",
    "delattr(emp1, 'salary')"
   ]
  },
  {
   "cell_type": "code",
   "execution_count": null,
   "id": "380aa40b-6b59-4a72-9d58-db2bae821df1",
   "metadata": {},
   "outputs": [],
   "source": [
    "print(Employee.__doc__)"
   ]
  },
  {
   "cell_type": "code",
   "execution_count": null,
   "id": "3edd331b-c3a4-4f78-b9d3-5f2afc7943a2",
   "metadata": {},
   "outputs": [],
   "source": [
    "print(Employee.__name__)"
   ]
  },
  {
   "cell_type": "code",
   "execution_count": null,
   "id": "aa37ea25-2279-4f9a-94dc-f178f245e091",
   "metadata": {},
   "outputs": [],
   "source": [
    "print(Employee.__module__)"
   ]
  },
  {
   "cell_type": "code",
   "execution_count": null,
   "id": "079c359b-07f3-4f32-a710-54e945e1b8ed",
   "metadata": {},
   "outputs": [],
   "source": [
    "print(Employee.__bases__)\n"
   ]
  },
  {
   "cell_type": "code",
   "execution_count": null,
   "id": "e58ec9f8-d7da-4786-a652-70a2ba88ec81",
   "metadata": {},
   "outputs": [],
   "source": [
    "print(Employee.__dict__)"
   ]
  },
  {
   "cell_type": "code",
   "execution_count": null,
   "id": "af01c791-bb91-4684-8d40-a8a514d025fb",
   "metadata": {},
   "outputs": [],
   "source": [
    "class Rectangle :\n",
    "    def __init__(self) :\n",
    "        self.width = 0\n",
    "        self.height = 0\n",
    "        \n",
    "    def setSize(self, size) :\n",
    "        self.width, self.height = size\n",
    "        \n",
    "    def getSize(self) :\n",
    "        return self.width, self.height\n",
    "    \n",
    "\n",
    "    "
   ]
  },
  {
   "cell_type": "code",
   "execution_count": null,
   "id": "0971465e-3a9f-4800-b349-4a3db0cc608a",
   "metadata": {},
   "outputs": [],
   "source": [
    "r = Rectangle()\n",
    "\n",
    "r.width = 5\n",
    "r.height = 10\n",
    "\n",
    "print(r.getSize())"
   ]
  },
  {
   "cell_type": "code",
   "execution_count": null,
   "id": "fa576140-64a2-4140-9044-f51e4536f2bc",
   "metadata": {},
   "outputs": [],
   "source": [
    "r.setSize(100, 200)"
   ]
  },
  {
   "cell_type": "code",
   "execution_count": null,
   "id": "48ebd440-db4f-4fe4-b069-548b6d4d1f0a",
   "metadata": {},
   "outputs": [],
   "source": [
    "r.setSize((100, 200))"
   ]
  },
  {
   "cell_type": "code",
   "execution_count": null,
   "id": "284142e0-c61c-4b2a-b319-bd3329fae608",
   "metadata": {},
   "outputs": [],
   "source": [
    "print(r.width)\n",
    "print(r.height)"
   ]
  },
  {
   "cell_type": "code",
   "execution_count": null,
   "id": "71364109-bdf8-472d-9a4b-055fc1a49ec1",
   "metadata": {},
   "outputs": [],
   "source": [
    "class Vector :\n",
    "    def __init__(self, a, b) :\n",
    "        self.a = a \n",
    "        self.b = b\n",
    "        \n",
    "    def __str__(self) :\n",
    "        return 'Vector data : (%d, %d)' % (self.a, self.b)\n",
    "    \n",
    "    def __add__(self, other) :\n",
    "        return Vector(self.a + other.a, self.b + other.b)\n",
    "    \n",
    "    \n",
    "v1 = Vector(2, 10)\n",
    "v2 = Vector(5, -3)\n",
    "\n",
    "print((v1 + v2))\n",
    "\n",
    "print(v1)\n",
    "print(v2)"
   ]
  },
  {
   "cell_type": "code",
   "execution_count": null,
   "id": "5bbe842a-43c4-4f62-b6da-6e68883ef6e6",
   "metadata": {},
   "outputs": [],
   "source": [
    "class JustCounter :\n",
    "    __secretCount = 0\n",
    "    \n",
    "    def count(self) :\n",
    "        self.__secretCount += 1\n",
    "        print(self.__secretCount)\n",
    "    \n",
    "    \n",
    "counter = JustCounter()\n",
    "\n",
    "counter.count()\n",
    "counter.count()\n",
    "\n",
    "#print((counter.__secretCount))"
   ]
  },
  {
   "cell_type": "code",
   "execution_count": null,
   "id": "64bcf186-35e9-4815-8191-0e46acd0a786",
   "metadata": {},
   "outputs": [],
   "source": [
    "class SuperClass :\n",
    "    def __init__(self, x) :\n",
    "        print(\"super x : \", x)\n",
    "        \n",
    "        \n",
    "class SubClass(SuperClass) :\n",
    "    def __init__(self, x, y) :\n",
    "        SuperClass.__init__(self, x)\n",
    "        self.y = y\n",
    "        print(\"y : \", y)\n",
    "        \n",
    "        \n",
    "        "
   ]
  },
  {
   "cell_type": "code",
   "execution_count": null,
   "id": "6410aadb-f0fd-49bd-9d46-3f1c276dae26",
   "metadata": {},
   "outputs": [],
   "source": [
    "s = SubClass(100, 200)\n",
    "#print(s)"
   ]
  },
  {
   "cell_type": "code",
   "execution_count": null,
   "id": "9101b222-71ee-4aef-ada7-99519e3d9fbc",
   "metadata": {},
   "outputs": [],
   "source": [
    "class SuperClass :\n",
    "    def __init__(self, x) :\n",
    "        print(\"super x : \", x)\n",
    "        \n",
    "    def display(self) :\n",
    "        print(\"display from parent\")\n",
    "        \n",
    "        \n",
    "class SubClass(SuperClass) :\n",
    "    def __init__(self, x, y) :\n",
    "        SuperClass.__init__(self, x)\n",
    "        self.y = y\n",
    "        print(\"y : \", y)\n",
    "        \n",
    "        \n",
    "        "
   ]
  },
  {
   "cell_type": "code",
   "execution_count": null,
   "id": "f98c0fa0-2143-4942-b147-3a9985213d2d",
   "metadata": {},
   "outputs": [],
   "source": [
    "s = SubClass(100, 200)\n",
    "s.display()"
   ]
  },
  {
   "cell_type": "code",
   "execution_count": null,
   "id": "f1e8e3af-6b38-4260-9d63-01cf4c432757",
   "metadata": {},
   "outputs": [],
   "source": [
    "class Contact :\n",
    "    all_contacts = []\n",
    "    \n",
    "    def __init__(self, name, email) :\n",
    "        self.name = name\n",
    "        self.email = email\n",
    "        Contact.all_contacts.append(self)\n",
    "        \n",
    "                \n",
    "class AddressHolder :\n",
    "    def __init__(self, street, city, state, code) :\n",
    "        self.street = street\n",
    "        self.city = city\n",
    "        self.state = state\n",
    "        self.code = code\n",
    "        \n",
    "        \n",
    "class Friend(Contact, AddressHolder) :\n",
    "    def __init__(self, name, email, phone, street, city, state, code) :\n",
    "        Contact.__init__(name, email)\n",
    "        AddressHolder.__init__(self, street, city, state, code)\n",
    "        self.phone = phone\n",
    "        "
   ]
  },
  {
   "cell_type": "code",
   "execution_count": null,
   "id": "20755108-55d7-4719-aeff-afabf20f465e",
   "metadata": {},
   "outputs": [],
   "source": [
    "# IO \n",
    "\n",
    "fo = open(\"foo.txt\", \"wb\")\n",
    "\n",
    "print(\"Name of the file\" , fo.name)\n",
    "\n",
    "print(\"Closed or not \" , fo.closed)\n",
    "\n",
    "print(\"Opening Mode \" , fo.mode)\n",
    "\n",
    "fo.close()\n"
   ]
  },
  {
   "cell_type": "code",
   "execution_count": null,
   "id": "895e8d5c-fdb4-4763-afe2-1d3410fc9032",
   "metadata": {},
   "outputs": [],
   "source": [
    "\n",
    "fo = open(\"foo.txt\", \"w\")\n",
    "fo.write(\"Python is a great language\")\n",
    "fo.close()"
   ]
  },
  {
   "cell_type": "code",
   "execution_count": null,
   "id": "bafa7135-b9d8-4bee-86de-6f716aa036b1",
   "metadata": {},
   "outputs": [],
   "source": [
    "\n",
    "fo = open(\"foo.txt\", \"r+\")\n",
    "\n",
    "str = fo.read(10)\n",
    "print(\"Read String is :\", str)\n",
    "\n",
    "fo.close()"
   ]
  },
  {
   "cell_type": "code",
   "execution_count": null,
   "id": "56704b1a-72de-4a25-891b-bd2f0bef8e94",
   "metadata": {},
   "outputs": [],
   "source": [
    "fo = open(\"foo.txt\", \"r+\")\n",
    "\n",
    "str = fo.read(10)\n",
    "print(\"Read String is :\", str)\n",
    "\n",
    "\n",
    "position = fo.tell()\n",
    "\n",
    "print(\"Current file position\" , position)\n",
    "\n",
    "position = fo.seek(0,0)\n",
    "\n",
    "\n",
    "print(\"Current file position after reset \" , position)\n",
    "\n",
    "str=fo.read(100)\n",
    "\n",
    "\n",
    "print(\"Read String is :\", str)\n",
    "\n",
    "\n",
    "fo.close()\n"
   ]
  },
  {
   "cell_type": "code",
   "execution_count": null,
   "id": "1e720556-cbe3-44fa-8f70-1b5ee3e8eded",
   "metadata": {},
   "outputs": [],
   "source": [
    "import os\n",
    "\n",
    "os.rename(\"foo.txt\", \"test1.txt\")\n"
   ]
  },
  {
   "cell_type": "code",
   "execution_count": null,
   "id": "4a6d3ea9-f18b-4c2d-91a4-bfe663563602",
   "metadata": {},
   "outputs": [],
   "source": [
    "\n",
    "os.mkdir(\"test\")\n"
   ]
  },
  {
   "cell_type": "code",
   "execution_count": null,
   "id": "01c16002-4afd-4e5d-8d3d-b55df12023c4",
   "metadata": {},
   "outputs": [],
   "source": [
    "\n",
    "fo = open(\"./test/foo.txt\", \"w\")\n",
    "fo.write(\"Python is a great language\")\n",
    "fo.close()"
   ]
  },
  {
   "cell_type": "code",
   "execution_count": null,
   "id": "43aa8745-2097-459a-90b1-d428a2311dd7",
   "metadata": {},
   "outputs": [],
   "source": [
    "os.remove(\"test1.txt\")"
   ]
  },
  {
   "cell_type": "code",
   "execution_count": null,
   "id": "4052f045-ecde-4e55-8405-623b652bfc64",
   "metadata": {},
   "outputs": [],
   "source": [
    "os.chdir(\"./test\")\n",
    "\n",
    "fo = open(\"foo1.txt\", \"w\")\n",
    "fo.write(\"Python is a great language\")\n",
    "fo.close()"
   ]
  },
  {
   "cell_type": "code",
   "execution_count": null,
   "id": "36dd6629-d295-4565-8a8e-4ce36a8df6d2",
   "metadata": {},
   "outputs": [],
   "source": [
    "os.getcwd()"
   ]
  },
  {
   "cell_type": "code",
   "execution_count": null,
   "id": "490a4667-4a02-48a7-a16e-34e365390c7f",
   "metadata": {},
   "outputs": [],
   "source": [
    "os.chdir(\"../\")"
   ]
  },
  {
   "cell_type": "code",
   "execution_count": null,
   "id": "53813032-27ef-4809-940d-7c03fcb1e08c",
   "metadata": {},
   "outputs": [],
   "source": [
    "os.getcwd()"
   ]
  },
  {
   "cell_type": "code",
   "execution_count": null,
   "id": "657a25d5-8528-4661-9dde-453b8792c2aa",
   "metadata": {},
   "outputs": [],
   "source": [
    "os.rmdir(\"./test\")"
   ]
  },
  {
   "cell_type": "code",
   "execution_count": null,
   "id": "42dd236c-524c-4d4d-bd1e-9fa85188b8fc",
   "metadata": {},
   "outputs": [],
   "source": [
    "\n",
    "fo = open(\"foo.txt\", \"w\")\n",
    "fo.write(\"Python is a great language\")\n",
    "fo.close()"
   ]
  },
  {
   "cell_type": "code",
   "execution_count": 7,
   "id": "a8fc29e6-b74d-4e7a-b6d7-c509697d89fa",
   "metadata": {},
   "outputs": [
    {
     "name": "stdout",
     "output_type": "stream",
     "text": [
      "PYTHON IS A GREAT LANGUAGE\n",
      " \n",
      " PLANNING AND EXECUTION OF THE PROGRAMS:\n",
      " \n",
      "     4 HOURS(2:30 PM Â€“ 6:30PM) WITH 10 MIN BREAK OF VIRTUAL INSTRUCTOR LED PROGRAM, THE PARTICIPANTS WILL ACCESS THE CLOUD LABS TO PERFORM THE EXERCISES DEMONSTRATED BY THE TRAINER.  \n",
      "     8 HOURS OF ACCESS TO CLOUD LABS ACCESSIBLE TILL 12 AM ON THE TRAINING DATE(WHICH CAN BE ACCESSED BY THE PARTICIPANTS FOR PRACTICE WITHOUT THE TRAINERÂ€™S PRESENCE).\n",
      "     PHONE AND EMAIL SUPPORT FOR THE CLOUD LABS ACCESS,\n",
      "     EMAIL SUPPORT FROM THE TRAINER FOR THE CLARIFYING DOUBTS, WITHIN 5 DAYS OF THE COURSE COMPLETION\n",
      " \n",
      "   "
     ]
    }
   ],
   "source": [
    "f = open('foo.txt')\n",
    "\n",
    "while True :\n",
    "    line =  f.readline()\n",
    "    if not line : break\n",
    "    print(line.upper(), end = ' ')"
   ]
  },
  {
   "cell_type": "code",
   "execution_count": 8,
   "id": "c21baa6c-be4c-47c9-9657-186561e512da",
   "metadata": {},
   "outputs": [
    {
     "name": "stdout",
     "output_type": "stream",
     "text": [
      "Python is a great language\n",
      " \n",
      " Planning and Execution of the programs:\n",
      " \n",
      "     4 hours(2:30 pm â€“ 6:30pm) with 10 min break of virtual instructor led program, the participants will access the cloud labs to perform the exercises demonstrated by the trainer.  \n",
      "     8 hours of access to cloud labs accessible till 12 AM on the training date(which can be accessed by the participants for practice without the trainerâ€™s presence).\n",
      "     Phone and Email support for the cloud labs access,\n",
      "     Email support from the trainer for the clarifying doubts, within 5 days of the course completion\n",
      " \n",
      "   "
     ]
    }
   ],
   "source": [
    "f = open('foo.txt')\n",
    "\n",
    "for eachLine in f :\n",
    "    print(eachLine, end= ' ')\n",
    "    \n",
    "f.close()"
   ]
  },
  {
   "cell_type": "code",
   "execution_count": 9,
   "id": "11a85eac-d4aa-4b8e-bfb5-6f229734309e",
   "metadata": {},
   "outputs": [
    {
     "name": "stdout",
     "output_type": "stream",
     "text": [
      "178\n"
     ]
    }
   ],
   "source": [
    "f = open('foo.txt', 'r')\n",
    "longest = 0\n",
    "allLines = f.readlines()\n",
    "f.close()\n",
    "\n",
    "for line in allLines :\n",
    "    linelen = len(line.strip())\n",
    "    if linelen > longest :\n",
    "        longest = linelen\n",
    "        \n",
    "print(longest)\n"
   ]
  },
  {
   "cell_type": "code",
   "execution_count": 10,
   "id": "54f3c281-dc0f-49ff-aa84-09c5cc238837",
   "metadata": {},
   "outputs": [
    {
     "data": {
      "text/plain": [
       "'\\nr\\nW\\nA\\nr+\\nw+\\na+\\nRb\\nwb\\nrb+\\nwb+\\nab+\\n\\n'"
      ]
     },
     "execution_count": 10,
     "metadata": {},
     "output_type": "execute_result"
    }
   ],
   "source": [
    "'''\n",
    "r\n",
    "W\n",
    "A\n",
    "r+\n",
    "w+\n",
    "a+\n",
    "Rb\n",
    "wb\n",
    "rb+\n",
    "wb+\n",
    "ab+\n",
    "\n",
    "'''"
   ]
  },
  {
   "cell_type": "code",
   "execution_count": 11,
   "id": "873714bd-82d4-4a7f-a638-efa5d228f129",
   "metadata": {},
   "outputs": [
    {
     "name": "stdout",
     "output_type": "stream",
     "text": [
      "Enter some text and press enter\n"
     ]
    },
    {
     "name": "stdin",
     "output_type": "stream",
     "text": [
      " ldkjfkdj fdlkflkdfj fdlkflkdflkd\n"
     ]
    },
    {
     "name": "stdout",
     "output_type": "stream",
     "text": [
      "calculated squares up to 6686302 * 6686302 = 44706621062601 \n",
      "while you typed 'ldkjfkdj fdlkflkdfj fdlkflkdflkd'\n"
     ]
    }
   ],
   "source": [
    "from threading import Thread \n",
    "\n",
    "class InputReader(Thread) :\n",
    "    def run(self) :\n",
    "        self.line_of_text = input()\n",
    "        \n",
    "print(\"Enter some text and press enter\")\n",
    "thread = InputReader()\n",
    "thread.start()\n",
    "\n",
    "count = result = 1\n",
    "\n",
    "while thread.is_alive() :\n",
    "    result = count * count\n",
    "    count +=1\n",
    "    \n",
    "print(\"calculated squares up to {0} * {0} = {1} \".format (\n",
    "    count, result))\n",
    "print(\"while you typed '{}'\". format(thread.line_of_text))"
   ]
  },
  {
   "cell_type": "code",
   "execution_count": 15,
   "id": "a49c2a84-f6c4-415d-878e-ecc722b645ca",
   "metadata": {},
   "outputs": [
    {
     "name": "stdout",
     "output_type": "stream",
     "text": [
      " Before starting a new thread name :  MainThread\n",
      "Hello from the new Thread  name : ChildThread \n",
      "Hello from main thread MainThread Hello from both of usHello from both of us\n",
      "\n"
     ]
    }
   ],
   "source": [
    "\n",
    "import threading, time\n",
    "from sys import stdout\n",
    "\n",
    "def sleepandprint() :\n",
    "    time.sleep(1)\n",
    "    print(\"Hello from both of us\")\n",
    "    \n",
    "def threadcode() :\n",
    "    stdout.write(\"Hello from the new Thread  name : %s \\n\" % threading.currentThread().getName())\n",
    "    sleepandprint()\n",
    "    \n",
    "print(\" Before starting a new thread name : \", threading.currentThread().getName())\n",
    "\n",
    "\n",
    "t = threading.Thread(target = threadcode, name= \"ChildThread\")\n",
    "\n",
    "t.setDaemon(1)\n",
    "\n",
    "t.start()\n",
    "\n",
    "stdout.write(\"Hello from main thread %s \" % threading.currentThread().getName())\n",
    "sleepandprint()\n",
    "\n",
    "t.join()"
   ]
  },
  {
   "cell_type": "code",
   "execution_count": 17,
   "id": "c984edd8-ebda-4878-a1cb-02797df4026f",
   "metadata": {},
   "outputs": [
    {
     "name": "stdout",
     "output_type": "stream",
     "text": [
      "Thread 0 started \n",
      "Active Threads : [<_MainThread(MainThread, started 673424)>, <Thread(IOPub, started daemon 680504)>, <Heartbeat(Heartbeat, started daemon 680464)>, <ControlThread(Control, started daemon 679300)>, <HistorySavingThread(IPythonHistorySavingThread, started 680236)>, <ParentPollerWindows(Thread-4, started daemon 679592)>, <Thread(Thread-6, started 680248)>]\n",
      "Thread 1 started \n",
      "Active Threads : [<_MainThread(MainThread, started 673424)>, <Thread(IOPub, started daemon 680504)>, <Heartbeat(Heartbeat, started daemon 680464)>, <ControlThread(Control, started daemon 679300)>, <HistorySavingThread(IPythonHistorySavingThread, started 680236)>, <ParentPollerWindows(Thread-4, started daemon 679592)>, <Thread(Thread-6, started 680248)>, <Thread(Thread-7, started 681904)>]\n",
      "Thread 2 started \n",
      "Active Threads : [<_MainThread(MainThread, started 673424)>, <Thread(IOPub, started daemon 680504)>, <Heartbeat(Heartbeat, started daemon 680464)>, <ControlThread(Control, started daemon 679300)>, <HistorySavingThread(IPythonHistorySavingThread, started 680236)>, <ParentPollerWindows(Thread-4, started daemon 679592)>, <Thread(Thread-6, started 680248)>, <Thread(Thread-7, started 681904)>, <Thread(Thread-8, started 680228)>]\n",
      "Thread 3 started \n",
      "Active Threads : [<_MainThread(MainThread, started 673424)>, <Thread(IOPub, started daemon 680504)>, <Heartbeat(Heartbeat, started daemon 680464)>, <ControlThread(Control, started daemon 679300)>, <HistorySavingThread(IPythonHistorySavingThread, started 680236)>, <ParentPollerWindows(Thread-4, started daemon 679592)>, <Thread(Thread-6, started 680248)>, <Thread(Thread-7, started 681904)>, <Thread(Thread-8, started 680228)>, <Thread(Thread-9, started 676880)>]\n",
      "Thread 4 started \n",
      "Active Threads : [<_MainThread(MainThread, started 673424)>, <Thread(IOPub, started daemon 680504)>, <Heartbeat(Heartbeat, started daemon 680464)>, <ControlThread(Control, started daemon 679300)>, <HistorySavingThread(IPythonHistorySavingThread, started 680236)>, <ParentPollerWindows(Thread-4, started daemon 679592)>, <Thread(Thread-6, started 680248)>, <Thread(Thread-7, started 681904)>, <Thread(Thread-8, started 680228)>, <Thread(Thread-9, started 676880)>, <Thread(Thread-10, started 680964)>]\n",
      "Thread 5 started \n",
      "Active Threads : [<_MainThread(MainThread, started 673424)>, <Thread(IOPub, started daemon 680504)>, <Heartbeat(Heartbeat, started daemon 680464)>, <ControlThread(Control, started daemon 679300)>, <HistorySavingThread(IPythonHistorySavingThread, started 680236)>, <ParentPollerWindows(Thread-4, started daemon 679592)>, <Thread(Thread-6, started 680248)>, <Thread(Thread-7, started 681904)>, <Thread(Thread-8, started 680228)>, <Thread(Thread-9, started 676880)>, <Thread(Thread-10, started 680964)>, <Thread(Thread-11, started 675976)>]\n",
      "Thread 6 started \n",
      "Active Threads : [<_MainThread(MainThread, started 673424)>, <Thread(IOPub, started daemon 680504)>, <Heartbeat(Heartbeat, started daemon 680464)>, <ControlThread(Control, started daemon 679300)>, <HistorySavingThread(IPythonHistorySavingThread, started 680236)>, <ParentPollerWindows(Thread-4, started daemon 679592)>, <Thread(Thread-6, started 680248)>, <Thread(Thread-7, started 681904)>, <Thread(Thread-8, started 680228)>, <Thread(Thread-9, started 676880)>, <Thread(Thread-10, started 680964)>, <Thread(Thread-11, started 675976)>, <Thread(Thread-12, started 671760)>]\n",
      "Thread 7 started \n",
      "Active Threads : [<_MainThread(MainThread, started 673424)>, <Thread(IOPub, started daemon 680504)>, <Heartbeat(Heartbeat, started daemon 680464)>, <ControlThread(Control, started daemon 679300)>, <HistorySavingThread(IPythonHistorySavingThread, started 680236)>, <ParentPollerWindows(Thread-4, started daemon 679592)>, <Thread(Thread-6, started 680248)>, <Thread(Thread-7, started 681904)>, <Thread(Thread-8, started 680228)>, <Thread(Thread-9, started 676880)>, <Thread(Thread-10, started 680964)>, <Thread(Thread-11, started 675976)>, <Thread(Thread-12, started 671760)>, <Thread(Thread-13, started 676928)>]\n",
      "Thread 8 started \n",
      "Active Threads : [<_MainThread(MainThread, started 673424)>, <Thread(IOPub, started daemon 680504)>, <Heartbeat(Heartbeat, started daemon 680464)>, <ControlThread(Control, started daemon 679300)>, <HistorySavingThread(IPythonHistorySavingThread, started 680236)>, <ParentPollerWindows(Thread-4, started daemon 679592)>, <Thread(Thread-6, started 680248)>, <Thread(Thread-7, started 681904)>, <Thread(Thread-8, started 680228)>, <Thread(Thread-9, started 676880)>, <Thread(Thread-10, started 680964)>, <Thread(Thread-11, started 675976)>, <Thread(Thread-12, started 671760)>, <Thread(Thread-13, started 676928)>, <Thread(Thread-14, started 671208)>]\n",
      "Thread 9 started \n",
      "Active Threads : [<_MainThread(MainThread, started 673424)>, <Thread(IOPub, started daemon 680504)>, <Heartbeat(Heartbeat, started daemon 680464)>, <ControlThread(Control, started daemon 679300)>, <HistorySavingThread(IPythonHistorySavingThread, started 680236)>, <ParentPollerWindows(Thread-4, started daemon 679592)>, <Thread(Thread-6, started 680248)>, <Thread(Thread-7, started 681904)>, <Thread(Thread-8, started 680228)>, <Thread(Thread-9, started 676880)>, <Thread(Thread-10, started 680964)>, <Thread(Thread-11, started 675976)>, <Thread(Thread-12, started 671760)>, <Thread(Thread-13, started 676928)>, <Thread(Thread-14, started 671208)>, <Thread(Thread-15, started 677396)>]\n",
      "Thread 4 finished executing \n",
      "Thread 6 finished executing \n",
      "Thread 9 finished executing \n",
      "Thread 7 finished executing \n",
      "Thread 1 finished executing \n",
      "Thread 3 finished executing Thread 2 finished executing \n",
      "\n",
      "Thread 5 finished executing \n",
      "Thread 8 finished executing \n",
      "Thread 0 finished executing \n"
     ]
    }
   ],
   "source": [
    "import threading \n",
    "import time\n",
    "import random\n",
    "\n",
    "def executeThread(i) :\n",
    "    print(\"Thread {} started \".format(i))\n",
    "    sleepTime = random.randint(1, 10)\n",
    "    time.sleep(sleepTime)\n",
    "    print(\"Thread {} finished executing \".format(i))\n",
    "    \n",
    "for i in range(10) :\n",
    "    thread = threading.Thread(target=executeThread, args=(i,))\n",
    "    thread.start()\n",
    "    \n",
    "    print(\"Active Threads :\" , threading.enumerate())\n",
    "          "
   ]
  },
  {
   "cell_type": "code",
   "execution_count": null,
   "id": "c626043f-2ef7-4bca-b123-e68fa40c3c8b",
   "metadata": {},
   "outputs": [],
   "source": []
  }
 ],
 "metadata": {
  "kernelspec": {
   "display_name": "Python 3 (ipykernel)",
   "language": "python",
   "name": "python3"
  },
  "language_info": {
   "codemirror_mode": {
    "name": "ipython",
    "version": 3
   },
   "file_extension": ".py",
   "mimetype": "text/x-python",
   "name": "python",
   "nbconvert_exporter": "python",
   "pygments_lexer": "ipython3",
   "version": "3.9.12"
  }
 },
 "nbformat": 4,
 "nbformat_minor": 5
}
