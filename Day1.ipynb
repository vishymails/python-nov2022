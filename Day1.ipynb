{
 "cells": [
  {
   "cell_type": "code",
   "execution_count": 1,
   "id": "959a856a-b31c-4b32-9dc9-adb5f11bf7e6",
   "metadata": {},
   "outputs": [
    {
     "name": "stdout",
     "output_type": "stream",
     "text": [
      "Hello Citibank\n"
     ]
    }
   ],
   "source": [
    "print(\"Hello Citibank\")"
   ]
  },
  {
   "cell_type": "code",
   "execution_count": 2,
   "id": "b888268b-da10-472f-a285-9acc81ed8291",
   "metadata": {},
   "outputs": [
    {
     "name": "stdout",
     "output_type": "stream",
     "text": [
      "Variable declaration\n",
      "another examples\n"
     ]
    }
   ],
   "source": [
    "a= \"Variable declaration\"\n",
    "\n",
    "print(a)\n",
    "\n",
    "b = (\"another examples\")\n",
    "print(b)"
   ]
  },
  {
   "cell_type": "code",
   "execution_count": 3,
   "id": "3312335e-5e13-4b3d-8013-a408740c3c59",
   "metadata": {},
   "outputs": [
    {
     "name": "stdout",
     "output_type": "stream",
     "text": [
      "100\n",
      "1000.0\n",
      "Rao\n"
     ]
    }
   ],
   "source": [
    "\n",
    "\n",
    "counter = 100\n",
    "miles = 1000.0\n",
    "name = \"Rao\"\n",
    "\n",
    "\n",
    "\n",
    "print(counter)\n",
    "print(miles)\n",
    "print(name)"
   ]
  },
  {
   "cell_type": "code",
   "execution_count": 4,
   "id": "d2afd684-9f6f-45a2-8ef9-77f844e06f30",
   "metadata": {},
   "outputs": [
    {
     "name": "stdout",
     "output_type": "stream",
     "text": [
      "100\n",
      "100\n",
      "100\n",
      "100\n"
     ]
    }
   ],
   "source": [
    "a = b = c = d = 100\n",
    "\n",
    "print(a)\n",
    "print(b)\n",
    "print(c)\n",
    "print(d)"
   ]
  },
  {
   "cell_type": "code",
   "execution_count": 5,
   "id": "919664cd-b137-4258-8543-82f555e5b34e",
   "metadata": {},
   "outputs": [
    {
     "name": "stdout",
     "output_type": "stream",
     "text": [
      "30\n",
      "10\n"
     ]
    }
   ],
   "source": [
    "x = 10\n",
    "y =30\n",
    "\n",
    "x,y = y, x\n",
    "\n",
    "print(x)\n",
    "print(y)\n"
   ]
  },
  {
   "cell_type": "code",
   "execution_count": 6,
   "id": "9d1f9892-dd92-4d7d-a7cd-f7b91badade0",
   "metadata": {},
   "outputs": [
    {
     "name": "stdout",
     "output_type": "stream",
     "text": [
      "30\n",
      "40\n",
      "Python\n"
     ]
    }
   ],
   "source": [
    "a, b, c = 30, 40, \"Python\"\n",
    "\n",
    "\n",
    "print(a)\n",
    "print(b)\n",
    "print(c)\n"
   ]
  },
  {
   "cell_type": "code",
   "execution_count": 7,
   "id": "5d62e7fe-b600-4fb4-8a9c-fe64b983acca",
   "metadata": {},
   "outputs": [
    {
     "name": "stdout",
     "output_type": "stream",
     "text": [
      "2 2\n"
     ]
    }
   ],
   "source": [
    "x = 1\n",
    "\n",
    "y = x = x+1\n",
    "\n",
    "print(x, y)"
   ]
  },
  {
   "cell_type": "code",
   "execution_count": 8,
   "id": "b97ab348-a052-4b08-a3d9-b8633c5af7b9",
   "metadata": {},
   "outputs": [
    {
     "name": "stdout",
     "output_type": "stream",
     "text": [
      "5\n",
      "25\n"
     ]
    }
   ],
   "source": [
    "m = 12\n",
    "\n",
    "m %= 7\n",
    "\n",
    "print(m)\n",
    "\n",
    "m **= 2\n",
    "print(m)\n",
    "\n",
    "\n"
   ]
  },
  {
   "cell_type": "code",
   "execution_count": 9,
   "id": "8c1ecf53-f11b-4a8f-9fcf-3c01a5707d9b",
   "metadata": {},
   "outputs": [
    {
     "name": "stdout",
     "output_type": "stream",
     "text": [
      "1000.000000 miles is the same as 1609.000000 KM \n"
     ]
    }
   ],
   "source": [
    "counter = 0\n",
    "miles = 1000.0\n",
    "name = 'Rao'\n",
    "\n",
    "counter = counter + 1\n",
    "kilometers = 1.609 * miles\n",
    "\n",
    "print('%f miles is the same as %f KM ' % (miles, kilometers))"
   ]
  },
  {
   "cell_type": "code",
   "execution_count": 18,
   "id": "2a834cba-abdc-4f61-b33d-a563be7437ed",
   "metadata": {},
   "outputs": [
    {
     "name": "stdout",
     "output_type": "stream",
     "text": [
      "8\n",
      "-9\n",
      "9\n",
      "4\n",
      "0\n",
      "3\n",
      "1\n",
      "30\n",
      "-31\n",
      "51\n"
     ]
    }
   ],
   "source": [
    "print(2 ** 3)\n",
    "\n",
    "print(-3 ** 2)\n",
    "\n",
    "print((-3) ** 2)\n",
    "\n",
    "x = 1\n",
    "\n",
    "print(x << 2)\n",
    "\n",
    "print(x >> 2)\n",
    "\n",
    "print(x | 2)\n",
    "\n",
    "print(x & 1)\n",
    "\n",
    "print(30)\n",
    "\n",
    "print(~30)\n",
    "\n",
    "print(30 ^ 45)\n",
    "\n"
   ]
  },
  {
   "cell_type": "code",
   "execution_count": 19,
   "id": "616c60cd-f871-496f-aa67-a50ca74f7bb8",
   "metadata": {},
   "outputs": [
    {
     "name": "stdout",
     "output_type": "stream",
     "text": [
      "True\n",
      "False\n",
      "True\n",
      "False\n",
      "True\n"
     ]
    }
   ],
   "source": [
    "x, y = 3.14, -1024\n",
    "\n",
    "print(x < 5.0)\n",
    "\n",
    "print(not (x < 5.0))\n",
    "\n",
    "print((x < 5.0) or (y > 2.71))\n",
    "\n",
    "print((x < 5.0) and (y > 2.71))\n",
    "\n",
    "print(not (x is y))"
   ]
  },
  {
   "cell_type": "code",
   "execution_count": 22,
   "id": "af2a3b08-c253-4271-8933-0c014c4ed427",
   "metadata": {},
   "outputs": [
    {
     "name": "stdout",
     "output_type": "stream",
     "text": [
      "Click Open link on the dialog\n",
      "C\n",
      "ick\n",
      "ck Open link on the dialog\n",
      "Click Open link on the dialogClick Open link on the dialog\n",
      "Click Open link on the dialogTest Example\n"
     ]
    }
   ],
   "source": [
    "str = 'Click Open link on the dialog'\n",
    "\n",
    "print(str)\n",
    "\n",
    "print(str[0])\n",
    "\n",
    "print(str[2:5])\n",
    "\n",
    "print(str[3:])\n",
    "\n",
    "print(str * 2)\n",
    "\n",
    "print(str + \"Test Example\")\n"
   ]
  },
  {
   "cell_type": "code",
   "execution_count": 25,
   "id": "3a9b67b1-0b25-464a-9f1c-76b2a79726ed",
   "metadata": {},
   "outputs": [
    {
     "name": "stdout",
     "output_type": "stream",
     "text": [
      "['abcd', 897, 2.23, 'rao', 70.2]\n",
      "abcd\n",
      "[897, 2.23]\n",
      "['rao', 70.2]\n",
      "[123, 'mahi', 123, 'mahi', 123, 'mahi']\n",
      "['abcd', 897, 2.23, 'rao', 70.2, 123, 'mahi']\n"
     ]
    }
   ],
   "source": [
    "# List Examples \n",
    "\n",
    "list = ['abcd', 897, 2.23, 'rao', 70.2]\n",
    "\n",
    "tinyList = [123, 'mahi']\n",
    "\n",
    "print(list)\n",
    "\n",
    "print(list[0])\n",
    "\n",
    "print(list[1:3])\n",
    "\n",
    "print(list[3:])\n",
    "\n",
    "print(tinyList *3)\n",
    "\n",
    "print(list + tinyList)"
   ]
  },
  {
   "cell_type": "code",
   "execution_count": 26,
   "id": "b97fbba5-e6ed-4a8d-a5a4-9e8c90a5bd19",
   "metadata": {},
   "outputs": [
    {
     "name": "stdout",
     "output_type": "stream",
     "text": [
      "Value available at index 3 :  rao\n"
     ]
    }
   ],
   "source": [
    "print(\"Value available at index 3 : \", list[3])  "
   ]
  },
  {
   "cell_type": "code",
   "execution_count": 29,
   "id": "13bace2d-f686-47bd-bb93-0557da4845e4",
   "metadata": {},
   "outputs": [
    {
     "name": "stdout",
     "output_type": "stream",
     "text": [
      "['abcd', 897, 2.23, 'rao', 70.2]\n",
      "['abcd', 897, 'rao', 70.2]\n",
      "4\n"
     ]
    }
   ],
   "source": [
    "list = ['abcd', 897, 2.23, 'rao', 70.2]\n",
    "\n",
    "print(list)\n",
    "\n",
    "del list[2]\n",
    "\n",
    "print(list)\n",
    "\n",
    "print(len(list))"
   ]
  },
  {
   "cell_type": "code",
   "execution_count": 34,
   "id": "9d3b2f1c-53eb-4d15-801b-491352f87f33",
   "metadata": {},
   "outputs": [
    {
     "name": "stdout",
     "output_type": "stream",
     "text": [
      "['Java', 'Python', 'GoLang', 'spark', 'PySpark', 'Scala']\n",
      "[45, 34, 234, 123, 120]\n",
      "spark\n",
      "234\n",
      "GoLang\n",
      "34\n"
     ]
    }
   ],
   "source": [
    "list1, list2 = ['Java', 'Python', 'GoLang', 'spark', 'PySpark', 'Scala'], [45,34,234,123,120]\n",
    "\n",
    "print(list1)\n",
    "print(list2)\n",
    "\n",
    "print(max(list1))\n",
    "\n",
    "print(max(list2))\n",
    "\n",
    "print(min(list1))\n",
    "\n",
    "print(min(list2))\n"
   ]
  },
  {
   "cell_type": "code",
   "execution_count": 39,
   "id": "5bb71e8d-1925-48fc-92f9-7c7b5eeea103",
   "metadata": {},
   "outputs": [
    {
     "name": "stdout",
     "output_type": "stream",
     "text": [
      "2\n",
      "4\n",
      "['Java', 'Python', 'Javascript', 'Scala', 'GoLang', 'spark', 'PySpark', 'Scala']\n"
     ]
    }
   ],
   "source": [
    "list1 = ['Java', 'Python', 'Scala', 'GoLang', 'spark', 'PySpark', 'Scala']\n",
    "\n",
    "print(list1.count('Scala'))\n",
    "\n",
    "print(list1.index('spark'))\n",
    "\n",
    "list1.insert(2, \"Javascript\")\n",
    "\n",
    "print(list1)"
   ]
  },
  {
   "cell_type": "code",
   "execution_count": 40,
   "id": "c7e715e8-c72b-4581-8555-77f28a59a74c",
   "metadata": {},
   "outputs": [
    {
     "name": "stdout",
     "output_type": "stream",
     "text": [
      "['Java', 'Python', 'Javascript', 'Scala', 'GoLang', 'spark', 'PySpark']\n"
     ]
    }
   ],
   "source": [
    "list1.pop()\n",
    "\n",
    "print(list1)"
   ]
  },
  {
   "cell_type": "code",
   "execution_count": 41,
   "id": "ab9540ed-809c-4444-bb2d-33951779f02d",
   "metadata": {},
   "outputs": [
    {
     "name": "stdout",
     "output_type": "stream",
     "text": [
      "['Java', 'Python', 'Javascript', 'Scala', 'GoLang', 'spark']\n"
     ]
    }
   ],
   "source": [
    "list1.pop()\n",
    "\n",
    "print(list1)"
   ]
  },
  {
   "cell_type": "code",
   "execution_count": 42,
   "id": "74d6b0d2-9002-4756-95c5-50111701c97b",
   "metadata": {},
   "outputs": [
    {
     "name": "stdout",
     "output_type": "stream",
     "text": [
      "['Java', 'Python', 'Javascript', 'Scala', 'GoLang']\n"
     ]
    }
   ],
   "source": [
    "list1.pop()\n",
    "\n",
    "print(list1)"
   ]
  },
  {
   "cell_type": "code",
   "execution_count": 43,
   "id": "fff0c86f-00b5-42e8-b26d-9f8c3ab79d9f",
   "metadata": {},
   "outputs": [
    {
     "name": "stdout",
     "output_type": "stream",
     "text": [
      "['Java', 'Javascript', 'Scala', 'GoLang']\n"
     ]
    }
   ],
   "source": [
    "list1.pop(1)\n",
    "\n",
    "print(list1)"
   ]
  },
  {
   "cell_type": "code",
   "execution_count": 44,
   "id": "6bf49df0-ace0-4265-b077-36bdda9d3455",
   "metadata": {},
   "outputs": [
    {
     "name": "stdout",
     "output_type": "stream",
     "text": [
      "['Java', 'Javascript', 'GoLang']\n"
     ]
    }
   ],
   "source": [
    "list1.remove('Scala')\n",
    "\n",
    "print(list1)"
   ]
  },
  {
   "cell_type": "code",
   "execution_count": 45,
   "id": "38682339-6ac8-4427-a537-9c3b38675949",
   "metadata": {},
   "outputs": [
    {
     "name": "stdout",
     "output_type": "stream",
     "text": [
      "['Java', 'Python', 'Scala', 'GoLang', 'spark', 'PySpark', 'Scala']\n",
      "['Scala', 'PySpark', 'spark', 'GoLang', 'Scala', 'Python', 'Java']\n"
     ]
    }
   ],
   "source": [
    "list1 = ['Java', 'Python', 'Scala', 'GoLang', 'spark', 'PySpark', 'Scala']\n",
    "\n",
    "\n",
    "print(list1)\n",
    "\n",
    "list1.reverse()\n",
    "\n",
    "\n",
    "print(list1)"
   ]
  },
  {
   "cell_type": "code",
   "execution_count": 46,
   "id": "ef5656fd-e197-4246-8afa-0dccd5ce4d41",
   "metadata": {},
   "outputs": [
    {
     "name": "stdout",
     "output_type": "stream",
     "text": [
      "['Java', 'Python', 'Scala', 'GoLang', 'spark', 'PySpark', 'Scala']\n",
      "['GoLang', 'Java', 'PySpark', 'Python', 'Scala', 'Scala', 'spark']\n"
     ]
    }
   ],
   "source": [
    "list1 = ['Java', 'Python', 'Scala', 'GoLang', 'spark', 'PySpark', 'Scala']\n",
    "\n",
    "\n",
    "print(list1)\n",
    "\n",
    "list1.sort()\n",
    "\n",
    "\n",
    "print(list1)"
   ]
  },
  {
   "cell_type": "code",
   "execution_count": 48,
   "id": "1454e381-c2c2-4d93-bca4-714ed3845b5c",
   "metadata": {},
   "outputs": [
    {
     "name": "stdout",
     "output_type": "stream",
     "text": [
      "[['Mahanth Rao', 11], ['Peter Edward', 41]]\n"
     ]
    }
   ],
   "source": [
    "edward = ['Peter Edward', 41]\n",
    "mahi = ['Mahanth Rao', 11]\n",
    "\n",
    "database = [mahi, edward]\n",
    "\n",
    "print(database)\n",
    "\n"
   ]
  },
  {
   "cell_type": "code",
   "execution_count": 52,
   "id": "75870032-4216-4e95-9f93-cc45248c339c",
   "metadata": {},
   "outputs": [
    {
     "name": "stdout",
     "output_type": "stream",
     "text": [
      "['Java', 'Python', 'Scala', 'GoLang', 'spark', 'PySpark', 'Scala', 'Kotlin']\n",
      "['Java', 'Python', 'Scala', 'GoLang', 'Ruby', 'spark', 'PySpark', 'Scala', 'Kotlin']\n",
      "['Java', 'Python', 'Scala', 'GoLang', 'Ruby', 'spark', 'PySpark', 'Scala', 'Kotlin', 'ADA', 'PASCAL', 'ABAP']\n"
     ]
    }
   ],
   "source": [
    "list1 = ['Java', 'Python', 'Scala', 'GoLang', 'spark', 'PySpark', 'Scala']\n",
    "\n",
    "list1.append(\"Kotlin\")\n",
    "print(list1)\n",
    "\n",
    "list1.insert(4, \"Ruby\")\n",
    "print(list1)\n",
    "\n",
    "list1.extend(['ADA', 'PASCAL', 'ABAP'])\n",
    "print(list1)\n"
   ]
  },
  {
   "cell_type": "code",
   "execution_count": 54,
   "id": "560fbcb5-867d-4d72-b06a-6a6f9edb141d",
   "metadata": {},
   "outputs": [
    {
     "name": "stdout",
     "output_type": "stream",
     "text": [
      "September\n",
      "nd\n"
     ]
    }
   ],
   "source": [
    "months = [\n",
    "    'January',\n",
    "    'February',\n",
    "    'March',\n",
    "    'April',\n",
    "    'May',\n",
    "    'June',\n",
    "    'July',\n",
    "    'August',\n",
    "    'September',\n",
    "    'October',\n",
    "    'November',\n",
    "    'December'\n",
    "]\n",
    "\n",
    "\n",
    "endings = ['st', 'nd', 'rd'] + 17 * ['th'] \\\n",
    "        + ['st', 'nd', 'rd'] + 7 * ['th'] \\\n",
    "        + ['st']\n",
    "\n",
    "\n",
    "month_number = 9\n",
    "day_number = 2\n",
    "\n",
    "month_name = months[month_number-1]\n",
    "ordinal = endings[day_number-1]\n",
    "\n",
    "print(month_name)\n",
    "print(ordinal)\n"
   ]
  },
  {
   "cell_type": "code",
   "execution_count": 59,
   "id": "f597d033-3572-482d-81bd-8aabfbf6bc4a",
   "metadata": {},
   "outputs": [
    {
     "name": "stdout",
     "output_type": "stream",
     "text": [
      "-1\n",
      "1\n"
     ]
    }
   ],
   "source": [
    "def cmp(x,y) :\n",
    "    return (x> y) - (x< y)\n",
    "\n",
    "\n",
    "list1, list2 = [123, 'xyz'], [456, 'abc']\n",
    "\n",
    "print(cmp(list1, list2))\n",
    "print(cmp(list2, list1))"
   ]
  },
  {
   "cell_type": "code",
   "execution_count": 60,
   "id": "ccc9e20a-715d-48b1-b7b9-7231c90b2269",
   "metadata": {},
   "outputs": [
    {
     "name": "stdout",
     "output_type": "stream",
     "text": [
      "Value is 100\n",
      "Done\n"
     ]
    }
   ],
   "source": [
    "# If Statements \n",
    "\n",
    "var = 100\n",
    "\n",
    "if(var == 100) :\n",
    "    print('Value is 100')\n",
    "    print(\"Done\")"
   ]
  },
  {
   "cell_type": "code",
   "execution_count": 61,
   "id": "fd0a05dc-d4e4-4681-bbb7-e76730792ab1",
   "metadata": {},
   "outputs": [
    {
     "name": "stdout",
     "output_type": "stream",
     "text": [
      "Value is 100\n",
      "Done\n"
     ]
    }
   ],
   "source": [
    "var = 100\n",
    "\n",
    "if(var == 100) : print('Value is 100')\n",
    "print(\"Done\")"
   ]
  },
  {
   "cell_type": "code",
   "execution_count": 62,
   "id": "9c57c288-aa9d-43d1-9abc-d4f6aa454503",
   "metadata": {},
   "outputs": [
    {
     "ename": "IndentationError",
     "evalue": "unexpected indent (3990927284.py, line 5)",
     "output_type": "error",
     "traceback": [
      "\u001b[1;36m  Input \u001b[1;32mIn [62]\u001b[1;36m\u001b[0m\n\u001b[1;33m    print(\"Done\")\u001b[0m\n\u001b[1;37m    ^\u001b[0m\n\u001b[1;31mIndentationError\u001b[0m\u001b[1;31m:\u001b[0m unexpected indent\n"
     ]
    }
   ],
   "source": [
    "var = 100\n",
    "\n",
    "if(var == 100) :\n",
    "    print('Value is 100')\n",
    "        print(\"Done\")"
   ]
  },
  {
   "cell_type": "code",
   "execution_count": 63,
   "id": "a582fb43-cd77-48e5-8f84-a9c382503061",
   "metadata": {},
   "outputs": [
    {
     "name": "stdout",
     "output_type": "stream",
     "text": [
      "30\n"
     ]
    }
   ],
   "source": [
    "x, y = 40, 30\n",
    "\n",
    "if x < y :\n",
    "    smaller = x\n",
    "else :\n",
    "    smaller = y\n",
    "    \n",
    "print(smaller)\n",
    "\n"
   ]
  },
  {
   "cell_type": "code",
   "execution_count": 64,
   "id": "7b790da9-0cc2-4f90-afdb-af34716868f9",
   "metadata": {},
   "outputs": [
    {
     "name": "stdout",
     "output_type": "stream",
     "text": [
      "30\n"
     ]
    }
   ],
   "source": [
    "smaller = (x < y and [x] or [y])[0]\n",
    "print(smaller)"
   ]
  },
  {
   "cell_type": "code",
   "execution_count": 65,
   "id": "7f637795-c3a0-4055-b1c2-185abe5bf966",
   "metadata": {},
   "outputs": [
    {
     "name": "stdout",
     "output_type": "stream",
     "text": [
      "30\n"
     ]
    }
   ],
   "source": [
    "smaller = x if x< y else y\n",
    "print(smaller)"
   ]
  },
  {
   "cell_type": "code",
   "execution_count": 66,
   "id": "4a943cc8-81bd-4584-a99c-7d54e2fb258c",
   "metadata": {},
   "outputs": [
    {
     "name": "stdout",
     "output_type": "stream",
     "text": [
      "x is even and non negative\n"
     ]
    }
   ],
   "source": [
    "x = 2\n",
    "if( x < 0) :\n",
    "    print(\"x is negative\")\n",
    "elif x % 2 :\n",
    "    print(\"x is positive and odd\")\n",
    "else :\n",
    "    print(\"x is even and non negative\")\n",
    "    "
   ]
  },
  {
   "cell_type": "code",
   "execution_count": 68,
   "id": "0d003aad-1957-4d69-9206-d0b87b07de7c",
   "metadata": {},
   "outputs": [
    {
     "name": "stdin",
     "output_type": "stream",
     "text": [
      "What is your name ?  Vishwanath Rao\n"
     ]
    },
    {
     "name": "stdout",
     "output_type": "stream",
     "text": [
      "Hello Dr. Rao\n"
     ]
    }
   ],
   "source": [
    "\n",
    "name = input(\"What is your name ? \")\n",
    "if name.endswith('Rao') :\n",
    "    print(\"Hello Dr. Rao\")\n",
    "else :\n",
    "    print (\"Hi New Person\")"
   ]
  },
  {
   "cell_type": "code",
   "execution_count": 69,
   "id": "107f8f64-385a-46d4-9321-72b80750dfa8",
   "metadata": {},
   "outputs": [
    {
     "name": "stdout",
     "output_type": "stream",
     "text": [
      "The Count is  0\n",
      "The Count is  1\n",
      "The Count is  2\n",
      "The Count is  3\n",
      "The Count is  4\n",
      "The Count is  5\n",
      "The Count is  6\n",
      "The Count is  7\n",
      "The Count is  8\n",
      "loop finished\n"
     ]
    }
   ],
   "source": [
    "#Loops \n",
    "\n",
    "# While \n",
    "\n",
    "count = 0\n",
    "\n",
    "while (count < 9) :\n",
    "    print(\"The Count is \", count)\n",
    "    count = count + 1\n",
    "    \n",
    "print('loop finished')\n"
   ]
  },
  {
   "cell_type": "code",
   "execution_count": 71,
   "id": "82cc0168-8e0d-4529-9265-a114834ddb06",
   "metadata": {},
   "outputs": [
    {
     "name": "stdout",
     "output_type": "stream",
     "text": [
      "0  is less than 5\n",
      "1  is less than 5\n",
      "2  is less than 5\n",
      "3  is less than 5\n",
      "4  is less than 5\n",
      "5 is not less than 5\n",
      "loop finished\n"
     ]
    }
   ],
   "source": [
    "count = 0\n",
    "\n",
    "while (count < 5) :\n",
    "    print(count, \" is less than 5\")\n",
    "    count = count + 1\n",
    "else :\n",
    "    print(count, \"is not less than 5\")\n",
    "    \n",
    "print('loop finished')\n"
   ]
  },
  {
   "cell_type": "code",
   "execution_count": 72,
   "id": "bede23be-6562-4275-9499-332cdd501921",
   "metadata": {},
   "outputs": [
    {
     "name": "stdout",
     "output_type": "stream",
     "text": [
      "Current Letter P\n",
      "Current Letter y\n",
      "Current Letter S\n",
      "Current Letter p\n",
      "Current Letter a\n",
      "Current Letter r\n",
      "Current Letter k\n"
     ]
    }
   ],
   "source": [
    "for letter in 'PySpark' :\n",
    "    print('Current Letter', letter)"
   ]
  },
  {
   "cell_type": "code",
   "execution_count": 73,
   "id": "10457f2a-e6c3-48b9-ac12-68b1d520c23c",
   "metadata": {},
   "outputs": [
    {
     "name": "stdout",
     "output_type": "stream",
     "text": [
      "Current language Java\n",
      "Current language Python\n",
      "Current language GoLang\n",
      "Current language spark\n",
      "Current language PySpark\n",
      "Current language Scala\n"
     ]
    }
   ],
   "source": [
    "languages = ['Java', 'Python', 'GoLang', 'spark', 'PySpark', 'Scala']\n",
    "\n",
    "\n",
    "for language in languages :\n",
    "    print('Current language', language)"
   ]
  },
  {
   "cell_type": "code",
   "execution_count": 75,
   "id": "084c3218-d3df-4e9f-b010-bd5fd83e3c6a",
   "metadata": {},
   "outputs": [
    {
     "name": "stdout",
     "output_type": "stream",
     "text": [
      "Current language Java\n",
      "Current language Python\n",
      "Current language GoLang\n",
      "Current language spark\n",
      "Current language PySpark\n",
      "Current language Scala\n"
     ]
    }
   ],
   "source": [
    "languages = ['Java', 'Python', 'GoLang', 'spark', 'PySpark', 'Scala']\n",
    "\n",
    "\n",
    "for index in range(len(languages)) :\n",
    "    print('Current language', languages[index])"
   ]
  },
  {
   "cell_type": "code",
   "execution_count": null,
   "id": "6d4f6d76-d1e5-4e23-a2a2-6eb4046091ae",
   "metadata": {},
   "outputs": [],
   "source": []
  },
  {
   "cell_type": "code",
   "execution_count": 77,
   "id": "e4418956-8b8e-42a9-b828-2fa244bce924",
   "metadata": {},
   "outputs": [
    {
     "name": "stdout",
     "output_type": "stream",
     "text": [
      "10 equals 2 * 5\n",
      "11 is a prime number\n",
      "11 is a prime number\n",
      "11 is a prime number\n",
      "11 is a prime number\n",
      "11 is a prime number\n",
      "11 is a prime number\n",
      "11 is a prime number\n",
      "11 is a prime number\n",
      "11 is a prime number\n",
      "12 equals 2 * 6\n",
      "13 is a prime number\n",
      "13 is a prime number\n",
      "13 is a prime number\n",
      "13 is a prime number\n",
      "13 is a prime number\n",
      "13 is a prime number\n",
      "13 is a prime number\n",
      "13 is a prime number\n",
      "13 is a prime number\n",
      "13 is a prime number\n",
      "13 is a prime number\n",
      "14 equals 2 * 7\n",
      "15 is a prime number\n",
      "15 equals 3 * 5\n",
      "16 equals 2 * 8\n",
      "17 is a prime number\n",
      "17 is a prime number\n",
      "17 is a prime number\n",
      "17 is a prime number\n",
      "17 is a prime number\n",
      "17 is a prime number\n",
      "17 is a prime number\n",
      "17 is a prime number\n",
      "17 is a prime number\n",
      "17 is a prime number\n",
      "17 is a prime number\n",
      "17 is a prime number\n",
      "17 is a prime number\n",
      "17 is a prime number\n",
      "17 is a prime number\n",
      "18 equals 2 * 9\n",
      "19 is a prime number\n",
      "19 is a prime number\n",
      "19 is a prime number\n",
      "19 is a prime number\n",
      "19 is a prime number\n",
      "19 is a prime number\n",
      "19 is a prime number\n",
      "19 is a prime number\n",
      "19 is a prime number\n",
      "19 is a prime number\n",
      "19 is a prime number\n",
      "19 is a prime number\n",
      "19 is a prime number\n",
      "19 is a prime number\n",
      "19 is a prime number\n",
      "19 is a prime number\n",
      "19 is a prime number\n",
      "20 equals 2 * 10\n",
      "21 is a prime number\n",
      "21 equals 3 * 7\n",
      "22 equals 2 * 11\n",
      "23 is a prime number\n",
      "23 is a prime number\n",
      "23 is a prime number\n",
      "23 is a prime number\n",
      "23 is a prime number\n",
      "23 is a prime number\n",
      "23 is a prime number\n",
      "23 is a prime number\n",
      "23 is a prime number\n",
      "23 is a prime number\n",
      "23 is a prime number\n",
      "23 is a prime number\n",
      "23 is a prime number\n",
      "23 is a prime number\n",
      "23 is a prime number\n",
      "23 is a prime number\n",
      "23 is a prime number\n",
      "23 is a prime number\n",
      "23 is a prime number\n",
      "23 is a prime number\n",
      "23 is a prime number\n",
      "24 equals 2 * 12\n",
      "25 is a prime number\n",
      "25 is a prime number\n",
      "25 is a prime number\n",
      "25 equals 5 * 5\n",
      "26 equals 2 * 13\n",
      "27 is a prime number\n",
      "27 equals 3 * 9\n",
      "28 equals 2 * 14\n",
      "29 is a prime number\n",
      "29 is a prime number\n",
      "29 is a prime number\n",
      "29 is a prime number\n",
      "29 is a prime number\n",
      "29 is a prime number\n",
      "29 is a prime number\n",
      "29 is a prime number\n",
      "29 is a prime number\n",
      "29 is a prime number\n",
      "29 is a prime number\n",
      "29 is a prime number\n",
      "29 is a prime number\n",
      "29 is a prime number\n",
      "29 is a prime number\n",
      "29 is a prime number\n",
      "29 is a prime number\n",
      "29 is a prime number\n",
      "29 is a prime number\n",
      "29 is a prime number\n",
      "29 is a prime number\n",
      "29 is a prime number\n",
      "29 is a prime number\n",
      "29 is a prime number\n",
      "29 is a prime number\n",
      "29 is a prime number\n",
      "29 is a prime number\n"
     ]
    }
   ],
   "source": [
    "for num in range(10, 30) :\n",
    "    for i in range(2, num) :\n",
    "        if num%i == 0 :\n",
    "            j= num/i\n",
    "            print('%d equals %d * %d' % (num, i, j))\n",
    "            break\n",
    "        else:\n",
    "            print(num, \"is a prime number\")\n",
    "            "
   ]
  },
  {
   "cell_type": "code",
   "execution_count": 78,
   "id": "786756fa-53f5-4717-8699-dd9f99e024c1",
   "metadata": {},
   "outputs": [
    {
     "name": "stdout",
     "output_type": "stream",
     "text": [
      "current letter is  P\n",
      "current letter is  y\n",
      "current letter is  t\n",
      "current letter is  o\n",
      "current letter is  n\n",
      "current  9\n",
      "current  8\n",
      "current  7\n",
      "current  6\n",
      "current  4\n",
      "current  3\n",
      "current  2\n",
      "current  1\n",
      "current  0\n"
     ]
    }
   ],
   "source": [
    "for letter in 'Python' :\n",
    "    if letter == \"h\" :\n",
    "        continue\n",
    "    print(\"current letter is \", letter)\n",
    "    \n",
    "    \n",
    "var = 10\n",
    "while var > 0 :\n",
    "    var = var - 1\n",
    "    if var == 5 :\n",
    "        continue\n",
    "    print('current ' , var)\n",
    "    "
   ]
  },
  {
   "cell_type": "code",
   "execution_count": null,
   "id": "ff0d8510-615e-4f50-a980-8c0ebbc6a61f",
   "metadata": {},
   "outputs": [],
   "source": []
  }
 ],
 "metadata": {
  "kernelspec": {
   "display_name": "Python 3 (ipykernel)",
   "language": "python",
   "name": "python3"
  },
  "language_info": {
   "codemirror_mode": {
    "name": "ipython",
    "version": 3
   },
   "file_extension": ".py",
   "mimetype": "text/x-python",
   "name": "python",
   "nbconvert_exporter": "python",
   "pygments_lexer": "ipython3",
   "version": "3.9.12"
  }
 },
 "nbformat": 4,
 "nbformat_minor": 5
}
