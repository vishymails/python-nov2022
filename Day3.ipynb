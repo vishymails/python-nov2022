{
 "cells": [
  {
   "cell_type": "code",
   "execution_count": 1,
   "id": "e2630f2d-30ad-410d-912e-874d78d28c0c",
   "metadata": {},
   "outputs": [],
   "source": [
    "import math\n",
    "\n",
    "class NegativeNumberError(ArithmeticError) :\n",
    "    \"\"\" attempted improper operation on negative number. \"\"\"\n",
    "    pass\n",
    "\n",
    "\n"
   ]
  },
  {
   "cell_type": "code",
   "execution_count": 2,
   "id": "838a0682-ac8b-4cf9-94e5-c06646f85c69",
   "metadata": {},
   "outputs": [],
   "source": [
    "def squareRoot( number) :\n",
    "    \"\"\" Computes square root of number . Raises Negative Number Error \"\"\"\n",
    "    \n",
    "    if number < 0 :\n",
    "        raise NegativeNumberError(\"Square root of Negative Number not permitted\")\n",
    "        \n",
    "    return math.sqrt( number )\n",
    "\n"
   ]
  },
  {
   "cell_type": "code",
   "execution_count": 5,
   "id": "a9d0b715-cc19-45c5-b048-51139c6f0869",
   "metadata": {},
   "outputs": [
    {
     "name": "stdin",
     "output_type": "stream",
     "text": [
      "\n",
      " Please enter a number : -90\n"
     ]
    },
    {
     "name": "stdout",
     "output_type": "stream",
     "text": [
      "Square root of Negative Number not permitted\n"
     ]
    },
    {
     "name": "stdin",
     "output_type": "stream",
     "text": [
      "\n",
      " Please enter a number : 89\n"
     ]
    },
    {
     "name": "stdout",
     "output_type": "stream",
     "text": [
      "9.433981132056603\n"
     ]
    }
   ],
   "source": [
    "while 1 : \n",
    "    try :\n",
    "        userValue = float(input(\"\\n Please enter a number :\"))\n",
    "        print(squareRoot(userValue))\n",
    "    except ValueError :\n",
    "        print( \" The entered value is not a number\")\n",
    "    except NegativeNumberError as exception :\n",
    "        print(exception)\n",
    "    else :\n",
    "        break\n",
    "        \n",
    "        "
   ]
  },
  {
   "cell_type": "code",
   "execution_count": 7,
   "id": "f4f974b6-521c-4a30-84ef-6d5c0e44a82d",
   "metadata": {},
   "outputs": [
    {
     "name": "stdout",
     "output_type": "stream",
     "text": [
      "Counter({'b': 3, 'a': 2, 'c': 1})\n",
      "Counter({'b': 4, 'c': 3, 'a': 2})\n"
     ]
    }
   ],
   "source": [
    "\n",
    "\n",
    "import collections\n",
    "\n",
    "print(collections.Counter(['a', 'b', 'c', 'a', 'b', 'b']))\n",
    "\n",
    "print(collections.Counter(a=2, b=4, c=3))"
   ]
  },
  {
   "cell_type": "code",
   "execution_count": 13,
   "id": "faba129c-33a8-45c5-adea-500aa6111113",
   "metadata": {},
   "outputs": [
    {
     "name": "stdout",
     "output_type": "stream",
     "text": [
      "Initial :  Counter()\n",
      "Sequence :  Counter({'h': 7, 'k': 7, 'f': 6, 'g': 6, 'j': 6})\n",
      "Dictionary :  Counter({'h': 15, 'k': 7, 'f': 6, 'g': 6, 'j': 6, 'd': 5, 'a': 1})\n"
     ]
    }
   ],
   "source": [
    "c = collections.Counter()\n",
    "\n",
    "print(\"Initial : \", c)\n",
    "\n",
    "c.update('fgfhgkjgkjghkjhghgkfjhkjfhkfhkfj')\n",
    "\n",
    "print('Sequence : ', c)\n",
    "\n",
    "c.update({'a' : 1, 'd' : 5, 'h' : 8})\n",
    "\n",
    "print(\"Dictionary : \" , c)"
   ]
  },
  {
   "cell_type": "code",
   "execution_count": 14,
   "id": "e7d2f22a-d03e-4262-a65e-80c76cebf58f",
   "metadata": {},
   "outputs": [
    {
     "name": "stdout",
     "output_type": "stream",
     "text": [
      "C1 :  Counter({'b': 3, 'a': 2, 'c': 1})\n",
      "C2 :  Counter({'a': 2, 'l': 1, 'p': 1, 'h': 1, 'b': 1, 'e': 1, 't': 1})\n"
     ]
    }
   ],
   "source": [
    "c1 = collections.Counter(['a', 'b', 'c', 'a', 'b', 'b'])\n",
    "c2 = collections.Counter('alphabet')\n",
    "\n",
    "print(\"C1 : \", c1)\n",
    "print(\"C2 : \", c2)\n"
   ]
  },
  {
   "cell_type": "code",
   "execution_count": 15,
   "id": "23f5a420-c95b-43dc-b1cb-166ff9cb0a09",
   "metadata": {},
   "outputs": [
    {
     "name": "stdout",
     "output_type": "stream",
     "text": [
      "Combined Counts\n",
      "Counter({'a': 4, 'b': 4, 'c': 1, 'l': 1, 'p': 1, 'h': 1, 'e': 1, 't': 1})\n"
     ]
    }
   ],
   "source": [
    "print(\"Combined Counts\")\n",
    "print(c1 + c2)"
   ]
  },
  {
   "cell_type": "code",
   "execution_count": 16,
   "id": "26ee4a68-78b1-472a-8d65-4976614d982e",
   "metadata": {},
   "outputs": [
    {
     "name": "stdout",
     "output_type": "stream",
     "text": [
      "Substraction Counts\n",
      "Counter({'b': 2, 'c': 1})\n"
     ]
    }
   ],
   "source": [
    "print(\"Substraction Counts\")\n",
    "print(c1 - c2)"
   ]
  },
  {
   "cell_type": "code",
   "execution_count": 17,
   "id": "45d323bb-73f6-4943-a927-d068770f6f69",
   "metadata": {},
   "outputs": [
    {
     "name": "stdout",
     "output_type": "stream",
     "text": [
      "Intersection taking positive minimums\n",
      "Counter({'a': 2, 'b': 1})\n"
     ]
    }
   ],
   "source": [
    "print(\"Intersection taking positive minimums\")\n",
    "print(c1 & c2)"
   ]
  },
  {
   "cell_type": "code",
   "execution_count": 18,
   "id": "4f1b6a06-d84f-4b0d-af8a-e185a29649d8",
   "metadata": {},
   "outputs": [
    {
     "name": "stdout",
     "output_type": "stream",
     "text": [
      "Union taking maximum\n",
      "Counter({'b': 3, 'a': 2, 'c': 1, 'l': 1, 'p': 1, 'h': 1, 'e': 1, 't': 1})\n"
     ]
    }
   ],
   "source": [
    "print(\"Union taking maximum\")\n",
    "print(c1 | c2)"
   ]
  },
  {
   "cell_type": "code",
   "execution_count": 19,
   "id": "b4fa4951-082c-4664-ad58-a29567c7ce1c",
   "metadata": {},
   "outputs": [],
   "source": [
    "from collections import deque\n",
    "\n",
    "dq = deque()\n",
    "for e in dq :\n",
    "    print(e)\n",
    "    \n"
   ]
  },
  {
   "cell_type": "code",
   "execution_count": 27,
   "id": "fac17ec6-7c57-432b-93f8-89defbcaaf9d",
   "metadata": {},
   "outputs": [
    {
     "name": "stdout",
     "output_type": "stream",
     "text": [
      "a\n",
      "b\n",
      "c\n",
      "d\n"
     ]
    }
   ],
   "source": [
    "dq = deque(['a', 'b', 'c', 'd'])\n",
    "for e in dq :\n",
    "    print(e)"
   ]
  },
  {
   "cell_type": "code",
   "execution_count": 31,
   "id": "a58f1df1-60e1-4c36-90c3-cbbcb3186843",
   "metadata": {},
   "outputs": [
    {
     "name": "stdout",
     "output_type": "stream",
     "text": [
      "1\n",
      "3\n",
      "5\n",
      "7\n"
     ]
    }
   ],
   "source": [
    "dq2 = deque({1: 'a', 3 : 'b', 5 : 'c', 7 : 'd'})\n",
    "for e in dq2 :\n",
    "    print(e)"
   ]
  },
  {
   "cell_type": "code",
   "execution_count": 29,
   "id": "e20bba97-67e2-4ed3-8ac9-937ad92fd530",
   "metadata": {},
   "outputs": [
    {
     "name": "stdout",
     "output_type": "stream",
     "text": [
      "1\n",
      "3\n",
      "5\n",
      "7\n"
     ]
    }
   ],
   "source": [
    "dq3 = deque(dq2)\n",
    "for e in dq3 :\n",
    "    print(e)"
   ]
  },
  {
   "cell_type": "code",
   "execution_count": 32,
   "id": "65270851-51be-4890-b070-e258addd719f",
   "metadata": {},
   "outputs": [
    {
     "name": "stdout",
     "output_type": "stream",
     "text": [
      "a\n",
      "b\n",
      "c\n",
      "d\n"
     ]
    }
   ],
   "source": [
    "dq4 = deque(dq3)\n",
    "for e in dq4 :\n",
    "    print(e)"
   ]
  },
  {
   "cell_type": "code",
   "execution_count": 34,
   "id": "d8d0e109-a006-4824-8844-2212b208ed10",
   "metadata": {},
   "outputs": [],
   "source": [
    "queue = []\n",
    "\n",
    "def enQ() :\n",
    "    queue.append(\"A\")\n",
    "    \n",
    "def deQ() :\n",
    "    if len(queue) == 0 :\n",
    "        print(\"Cannot pop from an empty queue\")\n",
    "    else :\n",
    "        print(\"Removed\")\n",
    "        "
   ]
  },
  {
   "cell_type": "code",
   "execution_count": 43,
   "id": "f6be08e6-1750-458d-8716-6c63d505030e",
   "metadata": {},
   "outputs": [
    {
     "name": "stdout",
     "output_type": "stream",
     "text": [
      "set()\n",
      "set()\n",
      "set()\n",
      "{'B', 'C'}\n",
      "{'B', 'C'}\n",
      "{'Z', 'X', 'C', 'Y', 'A', 'B', 'G', 'W', 'D'}\n",
      "frozenset({'a', 'b', 'c'})\n"
     ]
    }
   ],
   "source": [
    "print((set()))\n",
    "print((set([])))\n",
    "print((set(())))\n",
    "print((set('BC')))\n",
    "\n",
    "print((set('BCCCCC')))\n",
    "print((set('WWWWDDDDDDDDDDGGGGGGXYZXABCCCCC')))\n",
    "\n",
    "print(frozenset(['a','b','c']))"
   ]
  },
  {
   "cell_type": "code",
   "execution_count": 45,
   "id": "04460b7f-db8d-4952-bb62-2cd717a81ab9",
   "metadata": {},
   "outputs": [
    {
     "name": "stdout",
     "output_type": "stream",
     "text": [
      "{1, 2, 3, 4}\n",
      "{1, 2, 3, 4}\n"
     ]
    }
   ],
   "source": [
    "a = set([1,2,3])\n",
    "b = set([2,3,4])\n",
    "\n",
    "print(a.union(b))\n",
    "print(a | b)"
   ]
  },
  {
   "cell_type": "code",
   "execution_count": 46,
   "id": "68ad4b20-4ec3-4991-abf0-4d83dad92434",
   "metadata": {},
   "outputs": [
    {
     "name": "stdout",
     "output_type": "stream",
     "text": [
      "{2, 3}\n"
     ]
    }
   ],
   "source": [
    "c = a & b\n",
    "\n",
    "print(c)"
   ]
  },
  {
   "cell_type": "code",
   "execution_count": 54,
   "id": "9d4f6da4-914b-4962-94b5-df01b9884fda",
   "metadata": {},
   "outputs": [
    {
     "name": "stdout",
     "output_type": "stream",
     "text": [
      "True\n",
      "False\n",
      "{2, 3}\n",
      "{1}\n",
      "{1}\n",
      "{1, 4}\n",
      "{1, 4}\n",
      "{1, 2, 3}\n"
     ]
    }
   ],
   "source": [
    "print(c.issubset(a))\n",
    "print(c.issuperset(a))\n",
    "print(c.intersection(a))\n",
    "print(a.difference(b))\n",
    "print(a-b)\n",
    "print(a.symmetric_difference(b))\n",
    "print(a ^ b)\n",
    "print(a.copy())\n"
   ]
  },
  {
   "cell_type": "code",
   "execution_count": 56,
   "id": "e3443a74-036c-4077-8225-d0d108c033a9",
   "metadata": {},
   "outputs": [
    {
     "name": "stdout",
     "output_type": "stream",
     "text": [
      "{'x': 1, 'y': 2, 'z': 3}\n",
      "x corresponds to  1\n",
      "y corresponds to  2\n",
      "z corresponds to  3\n"
     ]
    }
   ],
   "source": [
    "d = {'x' : 1, 'y' : 2, 'z' : 3}\n",
    "\n",
    "print(d)\n",
    "\n",
    "for key in d :\n",
    "    print(key, 'corresponds to ' , d[key])"
   ]
  },
  {
   "cell_type": "code",
   "execution_count": 57,
   "id": "a348cd92-4833-45f0-8e5e-0d64d66c4315",
   "metadata": {},
   "outputs": [
    {
     "name": "stdout",
     "output_type": "stream",
     "text": [
      "{'A': 'earth', 'B': 90}\n",
      "{'A': 'Mars', 'B': 989, 'C': 'Sun'}\n"
     ]
    }
   ],
   "source": [
    "dict1 = {'A' : 'earth', 'B' : 90}\n",
    "\n",
    "print(dict1)\n",
    "\n",
    "dict1['A'] = 'Mars'\n",
    "dict1['B'] = 989\n",
    "dict1['C'] = 'Sun'\n",
    "\n",
    "print(dict1)\n"
   ]
  },
  {
   "cell_type": "code",
   "execution_count": 58,
   "id": "452d39de-209e-4ce5-a706-862f411039a4",
   "metadata": {},
   "outputs": [
    {
     "name": "stdout",
     "output_type": "stream",
     "text": [
      "{'x': 1, 'y': 2}\n"
     ]
    }
   ],
   "source": [
    "print(dict(zip(('x', 'y'), (1, 2))))"
   ]
  },
  {
   "cell_type": "code",
   "execution_count": 62,
   "id": "d58704d5-d16b-4ffd-a94b-937cbc18cf3c",
   "metadata": {},
   "outputs": [
    {
     "name": "stdout",
     "output_type": "stream",
     "text": [
      "[('name', 'Rao'), ('score', 99)]\n",
      "{'name': 'Rao', 'score': 99}\n",
      "Rao\n"
     ]
    }
   ],
   "source": [
    "items = [('name', 'Rao'), ('score', 99)]\n",
    "\n",
    "print(items)\n",
    "\n",
    "d = dict(items)\n",
    "\n",
    "print(d)\n",
    "\n",
    "print(d['name'])"
   ]
  },
  {
   "cell_type": "code",
   "execution_count": 61,
   "id": "2d9ec34c-fb6b-45de-92ff-7e275f6d2453",
   "metadata": {},
   "outputs": [
    {
     "name": "stdout",
     "output_type": "stream",
     "text": [
      "{'score': 99}\n"
     ]
    }
   ],
   "source": [
    "del d['name']\n",
    "\n",
    "print(d)"
   ]
  },
  {
   "cell_type": "code",
   "execution_count": 65,
   "id": "1073543d-c9f1-4f2a-80c5-a8c921e73ee6",
   "metadata": {},
   "outputs": [
    {
     "name": "stdout",
     "output_type": "stream",
     "text": [
      "{'x': 1, 'y': 2, 'z': 3}\n",
      "1\n",
      "dict_keys(['x', 'y', 'z'])\n",
      "dict_values([1, 2, 3])\n"
     ]
    }
   ],
   "source": [
    "d = {'x' : 1, 'y' : 2, 'z' : 3}\n",
    "\n",
    "dict1 = d.copy()\n",
    "\n",
    "print(dict1)\n",
    "\n",
    "print(dict1.get('x'))\n",
    "\n",
    "print(dict1.keys())\n",
    "\n",
    "print(dict1.values())"
   ]
  },
  {
   "cell_type": "code",
   "execution_count": 66,
   "id": "3df412f6-c239-4823-a7eb-ea6f4b8e695b",
   "metadata": {},
   "outputs": [
    {
     "name": "stdout",
     "output_type": "stream",
     "text": [
      "1\n",
      "2\n",
      "3\n"
     ]
    }
   ],
   "source": [
    "for key in dict1.keys() :\n",
    "    print(dict1[key])"
   ]
  },
  {
   "cell_type": "code",
   "execution_count": 67,
   "id": "eac953dc-6808-49d2-b24d-eb28468275e3",
   "metadata": {},
   "outputs": [
    {
     "name": "stdout",
     "output_type": "stream",
     "text": [
      "dict_items([('x', 1), ('y', 2), ('z', 3)])\n"
     ]
    }
   ],
   "source": [
    "print(dict1.items())"
   ]
  },
  {
   "cell_type": "code",
   "execution_count": 68,
   "id": "41cf4d70-2a92-43da-b808-28975e14b93f",
   "metadata": {},
   "outputs": [],
   "source": [
    "# OOP concepts \n",
    "\n",
    "\n",
    "class MyClass(object) :\n",
    "    pass\n",
    "\n",
    "\n",
    "\n",
    "class Contact :\n",
    "    all_contacts = []\n",
    "    \n",
    "    def __init__(self, name, email) :\n",
    "        self.name = name\n",
    "        self.email = email\n",
    "        Contact.all_contacts.append(self)\n",
    "        \n",
    "        "
   ]
  },
  {
   "cell_type": "code",
   "execution_count": 1,
   "id": "de3ad3f3-540d-4519-980c-6018de22c33b",
   "metadata": {},
   "outputs": [],
   "source": [
    "class Employee :\n",
    "    'common base class for all employees'\n",
    "    empCount = 0 \n",
    "    \n",
    "    def __init__(self, name, salary) :\n",
    "        self.name = name\n",
    "        self.salary = salary\n",
    "        Employee.empCount += 1\n",
    "        \n",
    "    def displayCount(self) :\n",
    "        print(\"Total employees %d\" % Employee.empCount)\n",
    "        \n",
    "    def displayEmployee(self) :\n",
    "        print(\"Name : \", self.name, \", Salary : \", self.salary)\n",
    "        \n",
    "        "
   ]
  },
  {
   "cell_type": "code",
   "execution_count": 2,
   "id": "7eeadbb4-9583-4e2a-8eac-339813c806aa",
   "metadata": {},
   "outputs": [
    {
     "name": "stdout",
     "output_type": "stream",
     "text": [
      "Name :  Zara , Salary :  2000\n",
      "Name :  Manni , Salary :  3000\n",
      "2\n"
     ]
    }
   ],
   "source": [
    "emp1 = Employee(\"Zara\", 2000)\n",
    "emp2 = Employee(\"Manni\", 3000)\n",
    "\n",
    "emp1.displayEmployee()\n",
    "emp2.displayEmployee()\n",
    "\n",
    "print(Employee.empCount)"
   ]
  },
  {
   "cell_type": "code",
   "execution_count": null,
   "id": "48a5ddaa-7232-4290-b956-c51f715983ec",
   "metadata": {},
   "outputs": [],
   "source": []
  },
  {
   "cell_type": "code",
   "execution_count": null,
   "id": "c05975e7-13bf-4cbd-a4e2-ec4bc3166f02",
   "metadata": {},
   "outputs": [],
   "source": []
  },
  {
   "cell_type": "code",
   "execution_count": null,
   "id": "9b6b8e81-6476-49d1-97de-ef75da00fd64",
   "metadata": {},
   "outputs": [],
   "source": []
  }
 ],
 "metadata": {
  "kernelspec": {
   "display_name": "Python 3 (ipykernel)",
   "language": "python",
   "name": "python3"
  },
  "language_info": {
   "codemirror_mode": {
    "name": "ipython",
    "version": 3
   },
   "file_extension": ".py",
   "mimetype": "text/x-python",
   "name": "python",
   "nbconvert_exporter": "python",
   "pygments_lexer": "ipython3",
   "version": "3.9.12"
  }
 },
 "nbformat": 4,
 "nbformat_minor": 5
}
