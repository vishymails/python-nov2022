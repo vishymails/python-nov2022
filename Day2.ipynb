{
 "cells": [
  {
   "cell_type": "code",
   "execution_count": 2,
   "id": "4a9e9fc7-683c-4f59-b7d4-00c14ef60cc7",
   "metadata": {},
   "outputs": [
    {
     "name": "stdout",
     "output_type": "stream",
     "text": [
      "(1, 2, 3, 4)\n",
      "(1, 2, 3, 4)\n"
     ]
    }
   ],
   "source": [
    "x = 1,2,3,4\n",
    "\n",
    "print(x)\n",
    "\n",
    "\n",
    "x = (1,2,3,4)\n",
    "\n",
    "print(x)\n"
   ]
  },
  {
   "cell_type": "code",
   "execution_count": 4,
   "id": "014c69b6-8665-4935-a96e-90c4a96cee99",
   "metadata": {},
   "outputs": [
    {
     "name": "stdout",
     "output_type": "stream",
     "text": [
      "()\n",
      "(23,)\n"
     ]
    }
   ],
   "source": [
    "x = ()\n",
    "print(x)\n",
    "\n",
    "x = 23,\n",
    "\n",
    "print(x)"
   ]
  },
  {
   "cell_type": "code",
   "execution_count": 12,
   "id": "51082d0f-e2f5-432c-a3b2-9d3d062ade06",
   "metadata": {},
   "outputs": [
    {
     "name": "stdout",
     "output_type": "stream",
     "text": [
      "['bvr']\n",
      "<class 'list'>\n",
      "bvr1\n",
      "<class 'str'>\n",
      "('bvr1',)\n",
      "<class 'tuple'>\n"
     ]
    }
   ],
   "source": [
    "print(['bvr'])\n",
    "\n",
    "print(type(['bvr']))\n",
    "\n",
    "\n",
    "print(('bvr1'))\n",
    "\n",
    "print(type(('bvr1')))\n",
    "\n",
    "\n",
    "print(('bvr1',))\n",
    "\n",
    "print(type(('bvr1',)))"
   ]
  },
  {
   "cell_type": "code",
   "execution_count": 11,
   "id": "6329e248-6572-460e-9757-fc6e491a1cb7",
   "metadata": {},
   "outputs": [
    {
     "name": "stdout",
     "output_type": "stream",
     "text": [
      "147\n",
      "(49, 49, 49)\n"
     ]
    }
   ],
   "source": [
    "print(3 * (40+9))\n",
    "print(3 * (40+9,))"
   ]
  },
  {
   "cell_type": "code",
   "execution_count": 15,
   "id": "a12362ff-6ba7-4f50-9e5e-3ea5829817ed",
   "metadata": {},
   "outputs": [
    {
     "name": "stdout",
     "output_type": "stream",
     "text": [
      "(['abc', 234], 23, -345.99)\n",
      "3\n",
      "[['abc', 234], 23, -345.99]\n"
     ]
    }
   ],
   "source": [
    "t = (['abc', 234], 23, -345.99)\n",
    "\n",
    "print(str(t))\n",
    "\n",
    "print(len(t))\n",
    "\n",
    "print(list(t))"
   ]
  },
  {
   "cell_type": "code",
   "execution_count": 16,
   "id": "1a6aa6a1-ee54-40be-9bc7-393de68fcd08",
   "metadata": {},
   "outputs": [
    {
     "name": "stdout",
     "output_type": "stream",
     "text": [
      "ggg\n",
      "fff\n",
      "kkk\n"
     ]
    }
   ],
   "source": [
    "tup = ('ggg', 'fff', 'kkk')\n",
    "\n",
    "(a, b, c) = tup\n",
    "\n",
    "print(a)\n",
    "print(b)\n",
    "print(c)\n"
   ]
  },
  {
   "cell_type": "code",
   "execution_count": 18,
   "id": "c72fea0f-0e5e-40e2-8a11-8bfca449f2ee",
   "metadata": {},
   "outputs": [
    {
     "name": "stdout",
     "output_type": "stream",
     "text": [
      "ggg\n",
      "fff\n",
      "kkk\n"
     ]
    }
   ],
   "source": [
    "tup = ('ggg', 'fff', 'kkk')\n",
    "\n",
    "print(tup[0])\n",
    "print(tup[1])\n",
    "print(tup[2])\n"
   ]
  },
  {
   "cell_type": "code",
   "execution_count": 20,
   "id": "c2b005c7-d848-4273-9c86-765c44f632f7",
   "metadata": {},
   "outputs": [
    {
     "name": "stdout",
     "output_type": "stream",
     "text": [
      "('ggg', 'fff', 'kkk', 78, 89, 9, 33)\n"
     ]
    }
   ],
   "source": [
    "tup = ('ggg', 'fff', 'kkk')\n",
    "tup1 = (78,89,0x9,33)\n",
    "\n",
    "tupx = tup + tup1\n",
    "\n",
    "print(tupx)"
   ]
  },
  {
   "cell_type": "code",
   "execution_count": 21,
   "id": "d98e9089-82a6-4a64-97a8-d9953136e49e",
   "metadata": {},
   "outputs": [
    {
     "name": "stdout",
     "output_type": "stream",
     "text": [
      "('ggg', 'fff', 'kkk', 78, 89, 9, 33, 90.0, 89.4, 67.2, 45.3)\n"
     ]
    }
   ],
   "source": [
    "tupNew = tupx + (90.0, 89.4, 67.2, 45.3)\n",
    "\n",
    "print(tupNew)"
   ]
  },
  {
   "cell_type": "code",
   "execution_count": 23,
   "id": "fb869a24-1461-470e-bd71-ee234432d3dd",
   "metadata": {},
   "outputs": [
    {
     "name": "stdout",
     "output_type": "stream",
     "text": [
      "1j\n",
      "(-3+31j)\n"
     ]
    }
   ],
   "source": [
    "import cmath\n",
    "\n",
    "print(cmath.sqrt(-1))\n",
    "\n",
    "print((1 + 3j) * (9+4j))"
   ]
  },
  {
   "cell_type": "code",
   "execution_count": 24,
   "id": "80fd5d68-7459-4889-ac53-4270b51e0781",
   "metadata": {},
   "outputs": [
    {
     "name": "stdout",
     "output_type": "stream",
     "text": [
      "(-1+0j)\n"
     ]
    }
   ],
   "source": [
    "print(1j * complex(0,1))"
   ]
  },
  {
   "cell_type": "code",
   "execution_count": 25,
   "id": "5d2f2b25-298f-454b-9712-7fc06f6e245f",
   "metadata": {},
   "outputs": [
    {
     "name": "stdout",
     "output_type": "stream",
     "text": [
      "2.5\n",
      "0.5\n"
     ]
    }
   ],
   "source": [
    "a = 2.5 + 0.5j\n",
    "\n",
    "print(a.real)\n",
    "\n",
    "print(a.imag)"
   ]
  },
  {
   "cell_type": "code",
   "execution_count": 26,
   "id": "e2f43b18-2587-4fc4-9f97-4b7363ddddf3",
   "metadata": {},
   "outputs": [
    {
     "name": "stdout",
     "output_type": "stream",
     "text": [
      "(2.5-0.5j)\n"
     ]
    }
   ],
   "source": [
    "a = 2.5 + 0.5j\n",
    "\n",
    "print(a.conjugate())"
   ]
  },
  {
   "cell_type": "code",
   "execution_count": 27,
   "id": "b7d68549-41a1-46bb-997e-49923e6f2b24",
   "metadata": {},
   "outputs": [
    {
     "name": "stdout",
     "output_type": "stream",
     "text": [
      "(2.5+0.5j)\n"
     ]
    }
   ],
   "source": [
    "a = 2.5 - 0.5j\n",
    "\n",
    "print(a.conjugate())"
   ]
  },
  {
   "cell_type": "code",
   "execution_count": 30,
   "id": "4330eff5-af41-4b0c-9c66-1d6dc94d5769",
   "metadata": {},
   "outputs": [
    {
     "name": "stdout",
     "output_type": "stream",
     "text": [
      "B\n",
      "y joi\n",
      "By join\n"
     ]
    }
   ],
   "source": [
    "var1 = 'By joining a meeting, you agree to our Terms of Service and Privacy Statement'\n",
    "\n",
    "print(var1[0])\n",
    "print(var1[1:6])\n",
    "print(var1[:7])"
   ]
  },
  {
   "cell_type": "code",
   "execution_count": 33,
   "id": "4b8d9182-5ebb-4213-b907-8ed147f3974b",
   "metadata": {},
   "outputs": [
    {
     "name": "stdout",
     "output_type": "stream",
     "text": [
      "                                          Now Text is here                                          \n",
      "                                                                                    Now Text is here\n",
      "Now Text is here                                                                                    \n"
     ]
    }
   ],
   "source": [
    "str1 = \"Now Text is here\"\n",
    "\n",
    "print(str1.center(100))\n",
    "print(str1.rjust(100))\n",
    "print(str1.ljust(100))"
   ]
  },
  {
   "cell_type": "code",
   "execution_count": 36,
   "id": "66e0cf97-d5ff-4668-920e-414972cdb81b",
   "metadata": {},
   "outputs": [
    {
     "name": "stdout",
     "output_type": "stream",
     "text": [
      "Student Name : sushi and score is 90 \n"
     ]
    }
   ],
   "source": [
    "print(\"Student Name : %s and score is %d \" % ('sushi', 90))"
   ]
  },
  {
   "cell_type": "code",
   "execution_count": 37,
   "id": "84e67ad7-f258-4558-aafc-89990adc645d",
   "metadata": {},
   "outputs": [
    {
     "name": "stdout",
     "output_type": "stream",
     "text": [
      "\n",
      "When compared to fat on your thighs or hips, \n",
      "having fat in the midsection can lead to major health risks.\n",
      "And it doesn't matter what your body shape is; carrying\n",
      "around extra ( \t )fat just isn't healthy. According to Harvard \n",
      "Health Publishing, location is really everything when [ \n",
      " ]speaking of excess fat.\n",
      "Too much belly fat—aka visceral fat—can cause asthma, dementia,\n",
      "cardiovascular disease, colorectal cancer, and breast cancer.\n",
      "\n",
      "\n"
     ]
    }
   ],
   "source": [
    "para_str = \"\"\"\n",
    "When compared to fat on your thighs or hips, \n",
    "having fat in the midsection can lead to major health risks.\n",
    "And it doesn't matter what your body shape is; carrying\n",
    "around extra ( \\t )fat just isn't healthy. According to Harvard \n",
    "Health Publishing, location is really everything when [ \\n ]speaking of excess fat.\n",
    "Too much belly fat—aka visceral fat—can cause asthma, dementia,\n",
    "cardiovascular disease, colorectal cancer, and breast cancer.\n",
    "\n",
    "\"\"\"\n",
    "\n",
    "print(para_str)"
   ]
  },
  {
   "cell_type": "code",
   "execution_count": 38,
   "id": "1022f829-4d4c-496c-b8b8-19975bbc778c",
   "metadata": {},
   "outputs": [
    {
     "name": "stdout",
     "output_type": "stream",
     "text": [
      "c:\\pythonexamples\\day2\n"
     ]
    }
   ],
   "source": [
    "print(\"c:\\\\pythonexamples\\\\day2\")"
   ]
  },
  {
   "cell_type": "code",
   "execution_count": 39,
   "id": "942920ed-4315-404e-b050-33370fcb871e",
   "metadata": {},
   "outputs": [
    {
     "name": "stdout",
     "output_type": "stream",
     "text": [
      "c:\\\\pythonexamples\\\\day2\n"
     ]
    }
   ],
   "source": [
    "print(r'c:\\\\pythonexamples\\\\day2')"
   ]
  },
  {
   "cell_type": "code",
   "execution_count": 40,
   "id": "d6405b99-0c57-4448-9307-043ccab8b6ab",
   "metadata": {},
   "outputs": [
    {
     "name": "stdout",
     "output_type": "stream",
     "text": [
      "Hello, world!\n"
     ]
    }
   ],
   "source": [
    "print (u'Hello, world!')"
   ]
  },
  {
   "cell_type": "code",
   "execution_count": 41,
   "id": "fee3920e-b79a-4cb5-91be-3f27d644cae4",
   "metadata": {},
   "outputs": [
    {
     "name": "stdout",
     "output_type": "stream",
     "text": [
      "3\n"
     ]
    }
   ],
   "source": [
    "str1 = \"Now Text is here\"\n",
    "\n",
    "sub = \"e\"\n",
    "\n",
    "print(str1.count(sub, 0, 30))"
   ]
  },
  {
   "cell_type": "code",
   "execution_count": 43,
   "id": "55754903-6d26-404f-833b-4ff3c3215ec4",
   "metadata": {},
   "outputs": [
    {
     "name": "stdout",
     "output_type": "stream",
     "text": [
      "2\n"
     ]
    }
   ],
   "source": [
    "str1 = \"Now text is here and text will be displayed\"\n",
    "\n",
    "sub = \"text\"\n",
    "\n",
    "print(str1.count(sub, 0, 60))"
   ]
  },
  {
   "cell_type": "code",
   "execution_count": 44,
   "id": "286651c9-7e13-4bcd-889a-f8ad95524b91",
   "metadata": {},
   "outputs": [
    {
     "name": "stdout",
     "output_type": "stream",
     "text": [
      "Now text is here\n"
     ]
    }
   ],
   "source": [
    "str1 = \"now Text is here\"\n",
    "\n",
    "print(str1.capitalize())"
   ]
  },
  {
   "cell_type": "code",
   "execution_count": 45,
   "id": "7a96ef6d-0ac4-4733-9df0-9db89ef9677b",
   "metadata": {},
   "outputs": [
    {
     "name": "stdout",
     "output_type": "stream",
     "text": [
      "encoded string b'Tm93IHRleHQgaXMgaGVyZSBhbmQgdGV4dCB3aWxsIGJlIGRpc3BsYXllZA=='\n"
     ]
    }
   ],
   "source": [
    "import base64\n",
    "\n",
    "str = \"Now text is here and text will be displayed\"\n",
    "\n",
    "str = base64.b64encode(str.encode('utf-8', errors = 'strict'))\n",
    "\n",
    "print(\"encoded string\" , str)"
   ]
  },
  {
   "cell_type": "code",
   "execution_count": 49,
   "id": "f8b3a488-ce50-4e29-b08e-687c3e7372df",
   "metadata": {},
   "outputs": [
    {
     "name": "stdout",
     "output_type": "stream",
     "text": [
      "True\n",
      "True\n",
      "False\n",
      "True\n"
     ]
    }
   ],
   "source": [
    "# endswith\n",
    "\n",
    "\n",
    "str = \"Now text is here and text will be displayed\"\n",
    "\n",
    "suffix=\"ayed\"\n",
    "\n",
    "print(str.endswith(suffix))\n",
    "print(str.endswith(suffix, 30))\n",
    "\n",
    "suffix=\"and\"\n",
    "print(str.endswith(suffix, 30))\n",
    "print(str.endswith(suffix, 2, 20))"
   ]
  },
  {
   "cell_type": "code",
   "execution_count": 53,
   "id": "67ffaa5c-d312-4632-9900-47c42d4b52ab",
   "metadata": {},
   "outputs": [
    {
     "name": "stdout",
     "output_type": "stream",
     "text": [
      "Now text is here \t and text will be displayed\n",
      "Now text is here         and text will be displayed\n",
      "Now text is here                 and text will be displayed\n",
      "Now text is here  and text will be displayed\n"
     ]
    }
   ],
   "source": [
    "\n",
    "str = \"Now text is here \\t and text will be displayed\"\n",
    "\n",
    "print(str)\n",
    "\n",
    "print(str.expandtabs())\n",
    "\n",
    "print(str.expandtabs(32))\n",
    "\n",
    "print(str.expandtabs(0))"
   ]
  },
  {
   "cell_type": "code",
   "execution_count": 54,
   "id": "ce00efa9-6987-4bee-a09b-71226c68581d",
   "metadata": {},
   "outputs": [
    {
     "name": "stdout",
     "output_type": "stream",
     "text": [
      "C:\\Users\\user\\Desktop\n"
     ]
    }
   ],
   "source": [
    "import os\n",
    "\n",
    "print(os.path.abspath(\".\"))"
   ]
  },
  {
   "cell_type": "code",
   "execution_count": 55,
   "id": "795a8fb8-3890-4883-9329-b0f81b34c97b",
   "metadata": {},
   "outputs": [
    {
     "name": "stdout",
     "output_type": "stream",
     "text": [
      "3.0\n"
     ]
    }
   ],
   "source": [
    "import math as foobar\n",
    "\n",
    "print(foobar.sqrt(9))"
   ]
  },
  {
   "cell_type": "code",
   "execution_count": 56,
   "id": "0e3b1eb6-b114-4e37-8651-5d87677de8a4",
   "metadata": {},
   "outputs": [
    {
     "name": "stdout",
     "output_type": "stream",
     "text": [
      "3.0\n"
     ]
    }
   ],
   "source": [
    "from math import sqrt\n",
    "\n",
    "print(sqrt(9))"
   ]
  },
  {
   "cell_type": "code",
   "execution_count": 57,
   "id": "b999914a-dd49-4098-bd90-2ddd073e13c9",
   "metadata": {},
   "outputs": [
    {
     "name": "stdout",
     "output_type": "stream",
     "text": [
      "3.0\n"
     ]
    }
   ],
   "source": [
    "from math import sqrt as foobar\n",
    "\n",
    "print(foobar(9))"
   ]
  },
  {
   "cell_type": "code",
   "execution_count": 58,
   "id": "48cd597a-8540-42a4-8b11-b6679948e13a",
   "metadata": {},
   "outputs": [
    {
     "name": "stdout",
     "output_type": "stream",
     "text": [
      "C:\\Users\\user\\Desktop\n"
     ]
    }
   ],
   "source": [
    "import os as mycomputer\n",
    "\n",
    "print(mycomputer.path.abspath(\".\"))"
   ]
  },
  {
   "cell_type": "code",
   "execution_count": 59,
   "id": "212bf1ed-1767-43cb-900d-5f4f598586e4",
   "metadata": {},
   "outputs": [
    {
     "ename": "ZeroDivisionError",
     "evalue": "division by zero",
     "output_type": "error",
     "traceback": [
      "\u001b[1;31m---------------------------------------------------------------------------\u001b[0m",
      "\u001b[1;31mZeroDivisionError\u001b[0m                         Traceback (most recent call last)",
      "Input \u001b[1;32mIn [59]\u001b[0m, in \u001b[0;36m<cell line: 5>\u001b[1;34m()\u001b[0m\n\u001b[0;32m      1\u001b[0m \u001b[38;5;66;03m# compilation error\u001b[39;00m\n\u001b[0;32m      2\u001b[0m \u001b[38;5;66;03m# error\u001b[39;00m\n\u001b[0;32m      3\u001b[0m \u001b[38;5;66;03m# exception \u001b[39;00m\n\u001b[1;32m----> 5\u001b[0m \u001b[38;5;28mprint\u001b[39m(\u001b[38;5;241;43m100\u001b[39;49m\u001b[38;5;241;43m/\u001b[39;49m\u001b[38;5;241;43m0\u001b[39;49m)\n",
      "\u001b[1;31mZeroDivisionError\u001b[0m: division by zero"
     ]
    }
   ],
   "source": [
    "# compilation error\n",
    "# error\n",
    "# exception \n",
    "\n",
    "print(100/0)"
   ]
  },
  {
   "cell_type": "code",
   "execution_count": 60,
   "id": "9b0e0235-6b56-4b31-b6c0-92a3db52c355",
   "metadata": {},
   "outputs": [
    {
     "ename": "IndexError",
     "evalue": "list index out of range",
     "output_type": "error",
     "traceback": [
      "\u001b[1;31m---------------------------------------------------------------------------\u001b[0m",
      "\u001b[1;31mIndexError\u001b[0m                                Traceback (most recent call last)",
      "Input \u001b[1;32mIn [60]\u001b[0m, in \u001b[0;36m<cell line: 3>\u001b[1;34m()\u001b[0m\n\u001b[0;32m      1\u001b[0m list1 \u001b[38;5;241m=\u001b[39m []\n\u001b[1;32m----> 3\u001b[0m \u001b[38;5;28mprint\u001b[39m(\u001b[43mlist1\u001b[49m\u001b[43m[\u001b[49m\u001b[38;5;241;43m8\u001b[39;49m\u001b[43m]\u001b[49m)\n",
      "\u001b[1;31mIndexError\u001b[0m: list index out of range"
     ]
    }
   ],
   "source": [
    "list1 = []\n",
    "\n",
    "print(list1[8])"
   ]
  },
  {
   "cell_type": "code",
   "execution_count": 61,
   "id": "2ede3b74-f29a-4b31-837d-e99cac1f2e63",
   "metadata": {},
   "outputs": [
    {
     "ename": "FileNotFoundError",
     "evalue": "[Errno 2] No such file or directory: 'unknowfile.txt'",
     "output_type": "error",
     "traceback": [
      "\u001b[1;31m---------------------------------------------------------------------------\u001b[0m",
      "\u001b[1;31mFileNotFoundError\u001b[0m                         Traceback (most recent call last)",
      "Input \u001b[1;32mIn [61]\u001b[0m, in \u001b[0;36m<cell line: 1>\u001b[1;34m()\u001b[0m\n\u001b[1;32m----> 1\u001b[0m f \u001b[38;5;241m=\u001b[39m \u001b[38;5;28;43mopen\u001b[39;49m\u001b[43m(\u001b[49m\u001b[38;5;124;43m\"\u001b[39;49m\u001b[38;5;124;43munknowfile.txt\u001b[39;49m\u001b[38;5;124;43m\"\u001b[39;49m\u001b[43m)\u001b[49m\n",
      "\u001b[1;31mFileNotFoundError\u001b[0m: [Errno 2] No such file or directory: 'unknowfile.txt'"
     ]
    }
   ],
   "source": [
    "f = open(\"unknowfile.txt\")"
   ]
  },
  {
   "cell_type": "code",
   "execution_count": 66,
   "id": "50d6c390-ddc5-4238-aa0a-550faad3a75f",
   "metadata": {},
   "outputs": [
    {
     "name": "stdin",
     "output_type": "stream",
     "text": [
      "enter numberator :  123\n",
      "enter denominator :  0\n"
     ]
    },
    {
     "ename": "ZeroDivisionError",
     "evalue": "float division by zero",
     "output_type": "error",
     "traceback": [
      "\u001b[1;31m---------------------------------------------------------------------------\u001b[0m",
      "\u001b[1;31mZeroDivisionError\u001b[0m                         Traceback (most recent call last)",
      "Input \u001b[1;32mIn [66]\u001b[0m, in \u001b[0;36m<cell line: 7>\u001b[1;34m()\u001b[0m\n\u001b[0;32m      4\u001b[0m number1 \u001b[38;5;241m=\u001b[39m \u001b[38;5;28mfloat\u001b[39m(number1)\n\u001b[0;32m      5\u001b[0m number2 \u001b[38;5;241m=\u001b[39m \u001b[38;5;28mfloat\u001b[39m(number2)\n\u001b[1;32m----> 7\u001b[0m result \u001b[38;5;241m=\u001b[39m \u001b[43mnumber1\u001b[49m\u001b[38;5;241;43m/\u001b[39;49m\u001b[43mnumber2\u001b[49m\n\u001b[0;32m      9\u001b[0m \u001b[38;5;28mprint\u001b[39m(result)\n",
      "\u001b[1;31mZeroDivisionError\u001b[0m: float division by zero"
     ]
    }
   ],
   "source": [
    "number1 = input(\"enter numerator : \")\n",
    "number2 = input(\"enter denominator : \")\n",
    "\n",
    "number1 = float(number1)\n",
    "number2 = float(number2)\n",
    "    \n",
    "result = number1/number2\n",
    "\n",
    "print(result)"
   ]
  },
  {
   "cell_type": "code",
   "execution_count": 68,
   "id": "2cd65d24-33f1-488e-84a2-c1b245f1e64a",
   "metadata": {},
   "outputs": [
    {
     "name": "stdin",
     "output_type": "stream",
     "text": [
      "enter numberator :  123\n",
      "enter denominator :  0\n"
     ]
    },
    {
     "name": "stdout",
     "output_type": "stream",
     "text": [
      "Attempted to divide by 0\n"
     ]
    }
   ],
   "source": [
    "number1 = input(\"enter numerator : \")\n",
    "number2 = input(\"enter denominator : \")\n",
    "\n",
    "try :\n",
    "    number1 = float(number1)\n",
    "    number2 = float(number2)\n",
    "    \n",
    "    result = number1/number2\n",
    "\n",
    "    print(result)\n",
    "    \n",
    "except ZeroDivisionError :\n",
    "    print(\"Attempted to divide by 0\")"
   ]
  },
  {
   "cell_type": "code",
   "execution_count": 69,
   "id": "71fb735e-33a5-49f0-89f9-1c8d430c0121",
   "metadata": {},
   "outputs": [
    {
     "name": "stdin",
     "output_type": "stream",
     "text": [
      "enter numberator :  123\n",
      "enter denominator :  \n"
     ]
    },
    {
     "ename": "ValueError",
     "evalue": "could not convert string to float: ''",
     "output_type": "error",
     "traceback": [
      "\u001b[1;31m---------------------------------------------------------------------------\u001b[0m",
      "\u001b[1;31mValueError\u001b[0m                                Traceback (most recent call last)",
      "Input \u001b[1;32mIn [69]\u001b[0m, in \u001b[0;36m<cell line: 4>\u001b[1;34m()\u001b[0m\n\u001b[0;32m      4\u001b[0m \u001b[38;5;28;01mtry\u001b[39;00m :\n\u001b[0;32m      5\u001b[0m     number1 \u001b[38;5;241m=\u001b[39m \u001b[38;5;28mfloat\u001b[39m(number1)\n\u001b[1;32m----> 6\u001b[0m     number2 \u001b[38;5;241m=\u001b[39m \u001b[38;5;28;43mfloat\u001b[39;49m\u001b[43m(\u001b[49m\u001b[43mnumber2\u001b[49m\u001b[43m)\u001b[49m\n\u001b[0;32m      8\u001b[0m     result \u001b[38;5;241m=\u001b[39m number1\u001b[38;5;241m/\u001b[39mnumber2\n\u001b[0;32m     10\u001b[0m     \u001b[38;5;28mprint\u001b[39m(result)\n",
      "\u001b[1;31mValueError\u001b[0m: could not convert string to float: ''"
     ]
    }
   ],
   "source": [
    "number1 = input(\"enter numerator : \")\n",
    "number2 = input(\"enter denominator : \")\n",
    "\n",
    "try :\n",
    "    number1 = float(number1)\n",
    "    number2 = float(number2)\n",
    "    \n",
    "    result = number1/number2\n",
    "\n",
    "    print(result)\n",
    "    \n",
    "except ZeroDivisionError :\n",
    "    print(\"Attempted to divide by 0\")"
   ]
  },
  {
   "cell_type": "code",
   "execution_count": 70,
   "id": "b421ffa0-9fb6-4751-adab-418eff5fa586",
   "metadata": {},
   "outputs": [
    {
     "name": "stdin",
     "output_type": "stream",
     "text": [
      "enter numerator :  123\n",
      "enter denominator :  \n"
     ]
    },
    {
     "name": "stdout",
     "output_type": "stream",
     "text": [
      "You must enter two values\n"
     ]
    }
   ],
   "source": [
    "number1 = input(\"enter numerator : \")\n",
    "number2 = input(\"enter denominator : \")\n",
    "\n",
    "try :\n",
    "    number1 = float(number1)\n",
    "    number2 = float(number2)\n",
    "    \n",
    "    result = number1/number2\n",
    "\n",
    "    print(result)\n",
    "    \n",
    "except ZeroDivisionError :\n",
    "    print(\"Attempted to divide by 0\")\n",
    "    \n",
    "except ValueError :\n",
    "    print(\"You must enter two values\")"
   ]
  },
  {
   "cell_type": "code",
   "execution_count": 75,
   "id": "b2f8564c-5091-4f11-be55-0acb8e071d39",
   "metadata": {},
   "outputs": [
    {
     "name": "stdin",
     "output_type": "stream",
     "text": [
      "enter numerator :  123\n",
      "enter denominator :  9\n"
     ]
    },
    {
     "name": "stdout",
     "output_type": "stream",
     "text": [
      "13.666666666666666\n",
      "123.000 / 9.000 = 13.667\n"
     ]
    }
   ],
   "source": [
    "number1 = input(\"enter numerator : \")\n",
    "number2 = input(\"enter denominator : \")\n",
    "\n",
    "try :\n",
    "    number1 = float(number1)\n",
    "    number2 = float(number2)\n",
    "    \n",
    "    result = number1/number2\n",
    "\n",
    "    print(result)\n",
    "    \n",
    "except ZeroDivisionError :\n",
    "    print(\"Attempted to divide by 0\")\n",
    "    \n",
    "except ValueError :\n",
    "    print(\"You must enter two values\")\n",
    "    \n",
    "else :\n",
    "    print(\"%.3f / %.3f = %.3f\" % (number1, number2, result)) "
   ]
  },
  {
   "cell_type": "code",
   "execution_count": 77,
   "id": "c28f5313-7f06-48d0-a4b7-26201b24f20a",
   "metadata": {},
   "outputs": [
    {
     "name": "stdin",
     "output_type": "stream",
     "text": [
      "enter your name 123\n"
     ]
    },
    {
     "name": "stdout",
     "output_type": "stream",
     "text": [
      "123\n"
     ]
    }
   ],
   "source": [
    "try :\n",
    "    name = input(\"enter your name\")\n",
    "    print(name)\n",
    "except KeyboardInterrupt :\n",
    "    print(\" hit control-c\")\n",
    "    \n",
    "    "
   ]
  },
  {
   "cell_type": "code",
   "execution_count": 79,
   "id": "19cd0d51-f147-47d6-b316-df1ec144002e",
   "metadata": {},
   "outputs": [
    {
     "name": "stdin",
     "output_type": "stream",
     "text": [
      "enter an integer :  dsds\n"
     ]
    },
    {
     "name": "stdout",
     "output_type": "stream",
     "text": [
      " Does not look like integer to me\n"
     ]
    }
   ],
   "source": [
    "try :\n",
    "    x = input(\"enter an integer : \")\n",
    "    y = int(x)\n",
    "    print(y)\n",
    "except (TypeError, ValueError) :\n",
    "    print(\" Does not look like integer to me\")\n",
    "    "
   ]
  },
  {
   "cell_type": "code",
   "execution_count": 84,
   "id": "c7a0e35f-8c24-4d24-84a7-13f7b74352b9",
   "metadata": {},
   "outputs": [],
   "source": [
    "import sys\n",
    "\n",
    "try :\n",
    "    f = open('numbers.txt')\n",
    "    s = f.readline()\n",
    "    i = int(s.strip())\n",
    "    \n",
    "except IOError as e :\n",
    "    errno, strerror = e.args\n",
    "    print(\"I/O error({0}) : {1}\".format(errno, strerror))\n",
    "    \n",
    "except ValueError :\n",
    "    print(\"No Valid integer in line\")\n",
    "except :\n",
    "    print(\"Unexpected Error \", sys.exc_info()[0])\n",
    "    raise "
   ]
  },
  {
   "cell_type": "code",
   "execution_count": 85,
   "id": "41fff4df-734f-4c1e-be1f-7ab23a74f33a",
   "metadata": {},
   "outputs": [
    {
     "name": "stdout",
     "output_type": "stream",
     "text": [
      "Got it :-)  invalid literal for int() with base 10: 'four'\n",
      "Code Continues\n"
     ]
    }
   ],
   "source": [
    "def f() :\n",
    "    x = int(\"four\")\n",
    "    \n",
    "try :\n",
    "    f()\n",
    "except ValueError as e :\n",
    "    print(\"Got it :-) \", e)\n",
    "    \n",
    "print(\"Code Continues\")\n",
    "\n",
    "    "
   ]
  },
  {
   "cell_type": "code",
   "execution_count": 86,
   "id": "ee45b61f-8313-4871-be7d-0e16c524fbb3",
   "metadata": {},
   "outputs": [
    {
     "name": "stdout",
     "output_type": "stream",
     "text": [
      "Got it :-)  invalid literal for int() with base 10: 'four'\n",
      "Code Continues\n"
     ]
    }
   ],
   "source": [
    "def f() :\n",
    "    try :\n",
    "        x = int(\"four\")\n",
    "    except ValueError as e :\n",
    "        print(\"Got it :-) \", e)\n",
    "\n",
    "        \n",
    "        \n",
    "f()\n",
    "\n",
    "    \n",
    "print(\"Code Continues\")"
   ]
  },
  {
   "cell_type": "code",
   "execution_count": 87,
   "id": "35e538ff-f8f4-4e4d-95d7-dbd575fb5797",
   "metadata": {},
   "outputs": [
    {
     "name": "stdout",
     "output_type": "stream",
     "text": [
      "Got it :-)  invalid literal for int() with base 10: 'four'\n"
     ]
    },
    {
     "ename": "ValueError",
     "evalue": "invalid literal for int() with base 10: 'four'",
     "output_type": "error",
     "traceback": [
      "\u001b[1;31m---------------------------------------------------------------------------\u001b[0m",
      "\u001b[1;31mValueError\u001b[0m                                Traceback (most recent call last)",
      "Input \u001b[1;32mIn [87]\u001b[0m, in \u001b[0;36m<cell line: 10>\u001b[1;34m()\u001b[0m\n\u001b[0;32m      5\u001b[0m         \u001b[38;5;28mprint\u001b[39m(\u001b[38;5;124m\"\u001b[39m\u001b[38;5;124mGot it :-) \u001b[39m\u001b[38;5;124m\"\u001b[39m, e)\n\u001b[0;32m      6\u001b[0m         \u001b[38;5;28;01mraise\u001b[39;00m\n\u001b[1;32m---> 10\u001b[0m \u001b[43mf\u001b[49m\u001b[43m(\u001b[49m\u001b[43m)\u001b[49m\n\u001b[0;32m     13\u001b[0m \u001b[38;5;28mprint\u001b[39m(\u001b[38;5;124m\"\u001b[39m\u001b[38;5;124mCode Continues\u001b[39m\u001b[38;5;124m\"\u001b[39m)\n",
      "Input \u001b[1;32mIn [87]\u001b[0m, in \u001b[0;36mf\u001b[1;34m()\u001b[0m\n\u001b[0;32m      1\u001b[0m \u001b[38;5;28;01mdef\u001b[39;00m \u001b[38;5;21mf\u001b[39m() :\n\u001b[0;32m      2\u001b[0m     \u001b[38;5;28;01mtry\u001b[39;00m :\n\u001b[1;32m----> 3\u001b[0m         x \u001b[38;5;241m=\u001b[39m \u001b[38;5;28;43mint\u001b[39;49m\u001b[43m(\u001b[49m\u001b[38;5;124;43m\"\u001b[39;49m\u001b[38;5;124;43mfour\u001b[39;49m\u001b[38;5;124;43m\"\u001b[39;49m\u001b[43m)\u001b[49m\n\u001b[0;32m      4\u001b[0m     \u001b[38;5;28;01mexcept\u001b[39;00m \u001b[38;5;167;01mValueError\u001b[39;00m \u001b[38;5;28;01mas\u001b[39;00m e :\n\u001b[0;32m      5\u001b[0m         \u001b[38;5;28mprint\u001b[39m(\u001b[38;5;124m\"\u001b[39m\u001b[38;5;124mGot it :-) \u001b[39m\u001b[38;5;124m\"\u001b[39m, e)\n",
      "\u001b[1;31mValueError\u001b[0m: invalid literal for int() with base 10: 'four'"
     ]
    }
   ],
   "source": [
    "def f() :\n",
    "    try :\n",
    "        x = int(\"four\")\n",
    "    except ValueError as e :\n",
    "        print(\"Got it :-) \", e)\n",
    "        raise\n",
    "\n",
    "        \n",
    "        \n",
    "f()\n",
    "\n",
    "    \n",
    "print(\"Code Continues\")"
   ]
  },
  {
   "cell_type": "code",
   "execution_count": 88,
   "id": "78063468-65b3-4369-9b2f-071d8b81d67a",
   "metadata": {},
   "outputs": [
    {
     "name": "stdout",
     "output_type": "stream",
     "text": [
      "Got it :-)  invalid literal for int() with base 10: 'four'\n",
      "Got it :-)  invalid literal for int() with base 10: 'four'\n",
      "Code Continues\n"
     ]
    }
   ],
   "source": [
    "def f() :\n",
    "    try :\n",
    "        x = int(\"four\")\n",
    "    except ValueError as e :\n",
    "        print(\"Got it :-) \", e)\n",
    "        raise\n",
    "        \n",
    "        \n",
    "try :\n",
    "    f()\n",
    "except ValueError as e :\n",
    "    print(\"Got it :-) \", e)\n",
    "    \n",
    "print(\"Code Continues\")"
   ]
  },
  {
   "cell_type": "code",
   "execution_count": 89,
   "id": "0724caa8-bed3-4672-b578-0dc2489485e2",
   "metadata": {},
   "outputs": [
    {
     "ename": "MyException",
     "evalue": "An user defined exception",
     "output_type": "error",
     "traceback": [
      "\u001b[1;31m---------------------------------------------------------------------------\u001b[0m",
      "\u001b[1;31mMyException\u001b[0m                               Traceback (most recent call last)",
      "Input \u001b[1;32mIn [89]\u001b[0m, in \u001b[0;36m<cell line: 4>\u001b[1;34m()\u001b[0m\n\u001b[0;32m      1\u001b[0m \u001b[38;5;28;01mclass\u001b[39;00m \u001b[38;5;21;01mMyException\u001b[39;00m(\u001b[38;5;167;01mException\u001b[39;00m) :\n\u001b[0;32m      2\u001b[0m     \u001b[38;5;28;01mpass\u001b[39;00m\n\u001b[1;32m----> 4\u001b[0m \u001b[38;5;28;01mraise\u001b[39;00m MyException(\u001b[38;5;124m\"\u001b[39m\u001b[38;5;124mAn user defined exception\u001b[39m\u001b[38;5;124m\"\u001b[39m)\n",
      "\u001b[1;31mMyException\u001b[0m: An user defined exception"
     ]
    }
   ],
   "source": [
    "class MyException(Exception) :\n",
    "    pass\n",
    "\n",
    "raise MyException(\"An user defined exception\")\n"
   ]
  },
  {
   "cell_type": "code",
   "execution_count": 90,
   "id": "c79c5be8-66db-4857-8428-e918daac03cc",
   "metadata": {},
   "outputs": [
    {
     "name": "stdin",
     "output_type": "stream",
     "text": [
      "Number 1 12\n"
     ]
    },
    {
     "name": "stdout",
     "output_type": "stream",
     "text": [
      " this statement will be printed at any clause\n"
     ]
    }
   ],
   "source": [
    "try :\n",
    "    x = float(input(\"Number 1\"))\n",
    "    inverse = 1.0 / x\n",
    "except ValueError :\n",
    "    print(\"Value Error occured \")\n",
    "    \n",
    "except ZeroDivisionError :\n",
    "    print(\"Divide by zero \")\n",
    "finally :\n",
    "    print(\" this statement will be printed at any clause\")\n",
    "    "
   ]
  },
  {
   "cell_type": "code",
   "execution_count": 91,
   "id": "01969347-36e4-4c3b-9982-ebc18033162e",
   "metadata": {},
   "outputs": [
    {
     "name": "stdin",
     "output_type": "stream",
     "text": [
      "Number 1 0\n"
     ]
    },
    {
     "name": "stdout",
     "output_type": "stream",
     "text": [
      "Divide by zero \n",
      " this statement will be printed at any clause\n"
     ]
    }
   ],
   "source": [
    "try :\n",
    "    x = float(input(\"Number 1\"))\n",
    "    inverse = 1.0 / x\n",
    "except ValueError :\n",
    "    print(\"Value Error occured \")\n",
    "    \n",
    "except ZeroDivisionError :\n",
    "    print(\"Divide by zero \")\n",
    "finally :\n",
    "    print(\" this statement will be printed at any clause\")"
   ]
  },
  {
   "cell_type": "code",
   "execution_count": 92,
   "id": "a0026adf-009d-45aa-bc6d-120c88fb00ea",
   "metadata": {},
   "outputs": [
    {
     "name": "stdin",
     "output_type": "stream",
     "text": [
      "Number 1 12\n"
     ]
    },
    {
     "name": "stdout",
     "output_type": "stream",
     "text": [
      "even any situation this statement will print\n",
      "last statement\n"
     ]
    }
   ],
   "source": [
    "try :\n",
    "    x = float(input(\"Number 1\"))\n",
    "    inverse = 1.0 / x\n",
    "finally :\n",
    "    print(\"even any situation this statement will print\")\n",
    "    \n",
    "print(\"last statement\")"
   ]
  },
  {
   "cell_type": "code",
   "execution_count": 93,
   "id": "272c1019-7895-451c-9b82-8acd0a86f6eb",
   "metadata": {},
   "outputs": [
    {
     "name": "stdin",
     "output_type": "stream",
     "text": [
      "Number 1 0\n"
     ]
    },
    {
     "name": "stdout",
     "output_type": "stream",
     "text": [
      "even any situation this statement will print\n"
     ]
    },
    {
     "ename": "ZeroDivisionError",
     "evalue": "float division by zero",
     "output_type": "error",
     "traceback": [
      "\u001b[1;31m---------------------------------------------------------------------------\u001b[0m",
      "\u001b[1;31mZeroDivisionError\u001b[0m                         Traceback (most recent call last)",
      "Input \u001b[1;32mIn [93]\u001b[0m, in \u001b[0;36m<cell line: 1>\u001b[1;34m()\u001b[0m\n\u001b[0;32m      1\u001b[0m \u001b[38;5;28;01mtry\u001b[39;00m :\n\u001b[0;32m      2\u001b[0m     x \u001b[38;5;241m=\u001b[39m \u001b[38;5;28mfloat\u001b[39m(\u001b[38;5;28minput\u001b[39m(\u001b[38;5;124m\"\u001b[39m\u001b[38;5;124mNumber 1\u001b[39m\u001b[38;5;124m\"\u001b[39m))\n\u001b[1;32m----> 3\u001b[0m     inverse \u001b[38;5;241m=\u001b[39m \u001b[38;5;241;43m1.0\u001b[39;49m\u001b[43m \u001b[49m\u001b[38;5;241;43m/\u001b[39;49m\u001b[43m \u001b[49m\u001b[43mx\u001b[49m\n\u001b[0;32m      4\u001b[0m \u001b[38;5;28;01mfinally\u001b[39;00m :\n\u001b[0;32m      5\u001b[0m     \u001b[38;5;28mprint\u001b[39m(\u001b[38;5;124m\"\u001b[39m\u001b[38;5;124meven any situation this statement will print\u001b[39m\u001b[38;5;124m\"\u001b[39m)\n",
      "\u001b[1;31mZeroDivisionError\u001b[0m: float division by zero"
     ]
    }
   ],
   "source": [
    "try :\n",
    "    x = float(input(\"Number 1\"))\n",
    "    inverse = 1.0 / x\n",
    "finally :\n",
    "    print(\"even any situation this statement will print\")\n",
    "    \n",
    "print(\"last statement\")"
   ]
  },
  {
   "cell_type": "code",
   "execution_count": null,
   "id": "70a94a7e-3239-4e90-ac76-3519f6615e62",
   "metadata": {},
   "outputs": [],
   "source": []
  }
 ],
 "metadata": {
  "kernelspec": {
   "display_name": "Python 3 (ipykernel)",
   "language": "python",
   "name": "python3"
  },
  "language_info": {
   "codemirror_mode": {
    "name": "ipython",
    "version": 3
   },
   "file_extension": ".py",
   "mimetype": "text/x-python",
   "name": "python",
   "nbconvert_exporter": "python",
   "pygments_lexer": "ipython3",
   "version": "3.9.12"
  }
 },
 "nbformat": 4,
 "nbformat_minor": 5
}
